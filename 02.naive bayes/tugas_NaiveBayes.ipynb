{
 "cells": [
  {
   "cell_type": "markdown",
   "id": "d85de47c",
   "metadata": {},
   "source": [
    "Nama : Raafi Nur Adzani   \n",
    "NIM  : A11.2021.13536"
   ]
  },
  {
   "cell_type": "markdown",
   "id": "423faba0",
   "metadata": {},
   "source": [
    "# Mengimport Library "
   ]
  },
  {
   "cell_type": "code",
   "execution_count": 1,
   "id": "a1d44a51",
   "metadata": {},
   "outputs": [],
   "source": [
    "import numpy as np\n",
    "import matplotlib.pyplot as plt\n",
    "import pandas as pd"
   ]
  },
  {
   "cell_type": "markdown",
   "id": "974f2e00",
   "metadata": {},
   "source": [
    "1. Library 'numpy' digunakan untuk komputasi numerik\n",
    "2. Library 'matplotlib' digunakan untuk visualisasi data\n",
    "3. Library 'pandas' digunakan untuk memanipulasi dan analisis data"
   ]
  },
  {
   "cell_type": "markdown",
   "id": "6b3b8116",
   "metadata": {},
   "source": [
    "# Mengimport Dataset"
   ]
  },
  {
   "cell_type": "code",
   "execution_count": 10,
   "id": "01b53aed",
   "metadata": {},
   "outputs": [],
   "source": [
    "data = pd.read_csv('latihan_interval_lari.csv')"
   ]
  },
  {
   "cell_type": "markdown",
   "id": "7af0542d",
   "metadata": {},
   "source": [
    "tampung data csv 'Latihan_interval_lari.csv' dalam variable 'data'"
   ]
  },
  {
   "cell_type": "code",
   "execution_count": 11,
   "id": "aae056d3",
   "metadata": {},
   "outputs": [],
   "source": [
    "X = data.iloc[:, [1, 2]].values\n",
    "y = data.iloc[:, -1].values"
   ]
  },
  {
   "cell_type": "markdown",
   "id": "15c72adb",
   "metadata": {},
   "source": [
    "Ambill nilai dari dataset yang di-import sebelumnya, dengan mengambil kolom ke-2 dan ke-3 sebagai nilai fitur (X), dan kolom terakhir sebagai nilai target (y). Nama variabel X dan y bisa berbeda tergantung pada kebutuhan."
   ]
  },
  {
   "cell_type": "markdown",
   "id": "c0854208",
   "metadata": {},
   "source": [
    "# Membagi Dataset menjadi Training Set dan Test Set"
   ]
  },
  {
   "cell_type": "code",
   "execution_count": 3,
   "id": "d0bf9a48",
   "metadata": {},
   "outputs": [],
   "source": [
    "from sklearn.model_selection import train_test_split\n",
    "X_train, X_test, y_train, y_test = train_test_split(X, y, test_size = 0.25, random_state = 0)"
   ]
  },
  {
   "cell_type": "markdown",
   "id": "63c4df66",
   "metadata": {},
   "source": [
    "Bagi data menjadi data latih (train) dan data uji (test) dengan menggunakan fungsi train_test_split dari library Scikit-learn. Data latih dan data uji terdiri dari atribut (X) dan label (y) yang telah diambil sebelumnya."
   ]
  },
  {
   "cell_type": "markdown",
   "id": "c28aa400",
   "metadata": {},
   "source": [
    "# Menggunakan Scaling"
   ]
  },
  {
   "cell_type": "code",
   "execution_count": 4,
   "id": "0b18d551",
   "metadata": {},
   "outputs": [],
   "source": [
    "from sklearn.preprocessing import StandardScaler\n",
    "sc = StandardScaler()\n",
    "X_train = sc.fit_transform(X_train)\n",
    "X_test = sc.transform(X_test)"
   ]
  },
  {
   "cell_type": "markdown",
   "id": "3bf87fab",
   "metadata": {},
   "source": [
    "Sklearn.preprocessing.StandardScaler digunakan untuk standarisasi fitur dengan menghapus mean dan scaling ke unit variance. Kode tersebut dijalankan pada X_train dan X_test sehingga kedua set data diubah sedemikian rupa sehingga semua fitur memiliki mean = 0 dan variansi = 1."
   ]
  },
  {
   "cell_type": "markdown",
   "id": "05fcdaee",
   "metadata": {},
   "source": [
    "# Naive Bayes"
   ]
  },
  {
   "cell_type": "code",
   "execution_count": 5,
   "id": "e6243036",
   "metadata": {},
   "outputs": [
    {
     "data": {
      "text/plain": [
       "GaussianNB()"
      ]
     },
     "execution_count": 5,
     "metadata": {},
     "output_type": "execute_result"
    }
   ],
   "source": [
    "from sklearn.naive_bayes import GaussianNB\n",
    "classifier = GaussianNB()\n",
    "classifier.fit(X_train, y_train)"
   ]
  },
  {
   "cell_type": "markdown",
   "id": "abd12660",
   "metadata": {},
   "source": [
    "Import Naive Bayes Gaussian dari modul sklearn dan menginisialisasi model klasifikasi dengan GaussianNB(). Kemudian model dilatih dengan memanggil metode fit() dengan parameter input X_train dan output y_"
   ]
  },
  {
   "cell_type": "markdown",
   "id": "3439384f",
   "metadata": {},
   "source": [
    "# Prediksi Tes Set"
   ]
  },
  {
   "cell_type": "code",
   "execution_count": 6,
   "id": "430a1951",
   "metadata": {},
   "outputs": [],
   "source": [
    "y_pred = classifier.predict(X_test)"
   ]
  },
  {
   "cell_type": "markdown",
   "id": "59d90268",
   "metadata": {},
   "source": [
    "Kode tersebut digunakan untuk melakukan prediksi target variabel pada data test (X_test) dengan menggunakan model klasifikasi yang sudah dilatih sebelumnya (classifier)."
   ]
  },
  {
   "cell_type": "markdown",
   "id": "2e3c430f",
   "metadata": {},
   "source": [
    "# Membuat Perhitungan Confusion Matriks"
   ]
  },
  {
   "cell_type": "code",
   "execution_count": 7,
   "id": "579c4145",
   "metadata": {},
   "outputs": [
    {
     "name": "stdout",
     "output_type": "stream",
     "text": [
      "[[3 2]\n",
      " [0 4]]\n"
     ]
    }
   ],
   "source": [
    "from sklearn.metrics import confusion_matrix\n",
    "cm = confusion_matrix(y_test, y_pred)\n",
    "print(cm)"
   ]
  },
  {
   "cell_type": "markdown",
   "id": "79a4d2d7",
   "metadata": {},
   "source": [
    "Confusion Matriks befungsi untuk menghitung hasil prediksi y_pred dan nilai sebenarnya y_test pada data uji. Confusion matriks akan menunjukkan jumlah data yang benar diprediksi dan salah diprediksi untuk masing-masing kelas pada data uji."
   ]
  },
  {
   "cell_type": "markdown",
   "id": "7ad4cbcd",
   "metadata": {},
   "source": [
    "#  Memvisualisasikan Data Dengan Matplotlib"
   ]
  },
  {
   "cell_type": "markdown",
   "id": "f5ed8311",
   "metadata": {},
   "source": [
    "## 1. Train Set"
   ]
  },
  {
   "cell_type": "code",
   "execution_count": 8,
   "id": "392e0f85",
   "metadata": {},
   "outputs": [
    {
     "name": "stderr",
     "output_type": "stream",
     "text": [
      "*c* argument looks like a single numeric RGB or RGBA sequence, which should be avoided as value-mapping will have precedence in case its length matches with *x* & *y*.  Please use the *color* keyword-argument or provide a 2D array with a single row if you intend to specify the same RGB or RGBA value for all points.\n",
      "*c* argument looks like a single numeric RGB or RGBA sequence, which should be avoided as value-mapping will have precedence in case its length matches with *x* & *y*.  Please use the *color* keyword-argument or provide a 2D array with a single row if you intend to specify the same RGB or RGBA value for all points.\n"
     ]
    },
    {
     "data": {
      "image/png": "[encoded data removed]",
      "text/plain": [
       "<Figure size 640x480 with 1 Axes>"
      ]
     },
     "metadata": {},
     "output_type": "display_data"
    }
   ],
   "source": [
    "from matplotlib.colors import ListedColormap\n",
    "X_set, y_set = X_train, y_train\n",
    "X1, X2 = np.meshgrid(np.arange(start = X_set[:, 0].min() - 1, stop = X_set[:, 0].max() + 1, step = 0.01),\n",
    "                     np.arange(start = X_set[:, 1].min() - 1, stop = X_set[:, 1].max() + 1, step = 0.01))\n",
    "plt.contourf(X1, X2, classifier.predict(np.array([X1.ravel(), X2.ravel()]).T).reshape(X1.shape),\n",
    "             alpha = 0.75, cmap = ListedColormap(('red', 'green')))\n",
    "plt.xlim(X1.min(), X1.max())\n",
    "plt.ylim(X2.min(), X2.max())\n",
    "for i, j in enumerate(np.unique(y_set)):\n",
    "    plt.scatter(X_set[y_set == j, 0], X_set[y_set == j, 1],\n",
    "                c = ListedColormap(('red', 'green'))(i), label = j)\n",
    "plt.title('Naive Bayes (Training set)')\n",
    "plt.xlabel('Waktu')\n",
    "plt.ylabel('Target')\n",
    "plt.legend()\n",
    "plt.show()"
   ]
  },
  {
   "cell_type": "markdown",
   "id": "05183934",
   "metadata": {},
   "source": [
    "## 2. Test Set"
   ]
  },
  {
   "cell_type": "code",
   "execution_count": 9,
   "id": "62c6dde6",
   "metadata": {},
   "outputs": [
    {
     "name": "stderr",
     "output_type": "stream",
     "text": [
      "*c* argument looks like a single numeric RGB or RGBA sequence, which should be avoided as value-mapping will have precedence in case its length matches with *x* & *y*.  Please use the *color* keyword-argument or provide a 2D array with a single row if you intend to specify the same RGB or RGBA value for all points.\n"
     ]
    },
    {
     "data": {
      "image/png": "[encoded data removed]",
      "text/plain": [
       "<Figure size 640x480 with 1 Axes>"
      ]
     },
     "metadata": {},
     "output_type": "display_data"
    }
   ],
   "source": [
    "from matplotlib.colors import ListedColormap\n",
    "X_set, y_set = X_test, y_test\n",
    "X1, X2 = np.meshgrid(np.arange(start = X_set[:, 0].min() - 1, stop = X_set[:, 0].max() + 1, step = 0.01),\n",
    "                     np.arange(start = X_set[:, 1].min() - 1, stop = X_set[:, 1].max() + 1, step = 0.01))\n",
    "plt.contourf(X1, X2, classifier.predict(np.array([X1.ravel(), X2.ravel()]).T).reshape(X1.shape),\n",
    "             alpha = 0.75, cmap = ListedColormap(('red', 'green')))\n",
    "plt.xlim(X1.min(), X1.max())\n",
    "plt.ylim(X2.min(), X2.max())\n",
    "for i, j in enumerate(np.unique(y_set)):\n",
    "    plt.scatter(X_set[y_set == j, 0], X_set[y_set == j, 1],\n",
    "                c = ListedColormap(('red', 'green'))(i), label = j)\n",
    "plt.title('Naive Bayes (Test set)')\n",
    "plt.xlabel('Waktu')\n",
    "plt.ylabel('Target')\n",
    "plt.legend()\n",
    "plt.show()"
   ]
  },
  {
   "cell_type": "markdown",
   "id": "d1c42987",
   "metadata": {},
   "source": [
    "Visualisasikan hasil prediksi pada train set dan tes set menggunakan model Naive Bayes. Pertama, kode membuat meshgrid yang terdiri dari dua variabel independen dari data set. Kemudian, model Naive Bayes akan digunakan untuk memprediksi nilai target pada setiap titik pada meshgrid dan plot akan dibuat dengan warna yang berbeda untuk setiap kelas target. Akhirnya, plot akan ditampilkan dengan menambahkan label pada sumbu x dan y dan membuat legenda."
   ]
  },
  {
   "cell_type": "code",
   "execution_count": null,
   "id": "131a16a9",
   "metadata": {},
   "outputs": [],
   "source": []
  }
 ],
 "metadata": {
  "kernelspec": {
   "display_name": "Python 3 (ipykernel)",
   "language": "python",
   "name": "python3"
  },
  "language_info": {
   "codemirror_mode": {
    "name": "ipython",
    "version": 3
   },
   "file_extension": ".py",
   "mimetype": "text/x-python",
   "name": "python",
   "nbconvert_exporter": "python",
   "pygments_lexer": "ipython3",
   "version": "3.9.13"
  },
  "toc": {
   "base_numbering": 1,
   "nav_menu": {},
   "number_sections": true,
   "sideBar": true,
   "skip_h1_title": false,
   "title_cell": "Table of Contents",
   "title_sidebar": "Contents",
   "toc_cell": false,
   "toc_position": {},
   "toc_section_display": true,
   "toc_window_display": true
  },
  "varInspector": {
   "cols": {
    "lenName": 16,
    "lenType": 16,
    "lenVar": 40
   },
   "kernels_config": {
    "python": {
     "delete_cmd_postfix": "",
     "delete_cmd_prefix": "del ",
     "library": "var_list.py",
     "varRefreshCmd": "print(var_dic_list())"
    },
    "r": {
     "delete_cmd_postfix": ") ",
     "delete_cmd_prefix": "rm(",
     "library": "var_list.r",
     "varRefreshCmd": "cat(var_dic_list()) "
    }
   },
   "types_to_exclude": [
    "module",
    "function",
    "builtin_function_or_method",
    "instance",
    "_Feature"
   ],
   "window_display": false
  }
 },
 "nbformat": 4,
 "nbformat_minor": 5
}

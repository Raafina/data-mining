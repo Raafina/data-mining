{
 "cells": [
  {
   "cell_type": "markdown",
   "id": "0565c754",
   "metadata": {},
   "source": [
    "Nama : Raafi Nur Adzani   \n",
    "NIM  : A11.2021.13536"
   ]
  },
  {
   "cell_type": "markdown",
   "id": "019e18de",
   "metadata": {},
   "source": [
    "# Mengimport Library"
   ]
  },
  {
   "cell_type": "code",
   "execution_count": 1,
   "id": "acdf43e0",
   "metadata": {},
   "outputs": [],
   "source": [
    "import numpy as np\n",
    "import matplotlib.pyplot as plt\n",
    "import pandas as pd"
   ]
  },
  {
   "cell_type": "markdown",
   "id": "24b7ce2a",
   "metadata": {},
   "source": [
    "1. Library 'numpy' digunakan untuk komputasi numerik\n",
    "2. Library 'matplotlib' digunakan untuk visualisasi data\n",
    "3. Library 'pandas' digunakan untuk memanipulasi dan analisis data"
   ]
  },
  {
   "cell_type": "markdown",
   "id": "a4960eb6",
   "metadata": {},
   "source": [
    "# Mengimport Dataset"
   ]
  },
  {
   "cell_type": "code",
   "execution_count": 2,
   "id": "3c3e99fb",
   "metadata": {},
   "outputs": [],
   "source": [
    "data = pd.read_csv('purchase_data_exe.csv')"
   ]
  },
  {
   "cell_type": "markdown",
   "id": "6933aeb1",
   "metadata": {},
   "source": [
    "tampung data csv 'purchase_data_exe.csv' dalam variable 'data'"
   ]
  },
  {
   "cell_type": "code",
   "execution_count": 3,
   "id": "45ebe328",
   "metadata": {},
   "outputs": [
    {
     "data": {
      "text/html": [
       "<div>\n",
       "<style scoped>\n",
       "    .dataframe tbody tr th:only-of-type {\n",
       "        vertical-align: middle;\n",
       "    }\n",
       "\n",
       "    .dataframe tbody tr th {\n",
       "        vertical-align: top;\n",
       "    }\n",
       "\n",
       "    .dataframe thead th {\n",
       "        text-align: right;\n",
       "    }\n",
       "</style>\n",
       "<table border=\"1\" class=\"dataframe\">\n",
       "  <thead>\n",
       "    <tr style=\"text-align: right;\">\n",
       "      <th></th>\n",
       "      <th>date</th>\n",
       "      <th>customer_id</th>\n",
       "      <th>product_category</th>\n",
       "      <th>payment_method</th>\n",
       "      <th>value [USD]</th>\n",
       "      <th>time_on_site [Minutes]</th>\n",
       "      <th>clicks_in_site</th>\n",
       "      <th>Unnamed: 7</th>\n",
       "    </tr>\n",
       "  </thead>\n",
       "  <tbody>\n",
       "    <tr>\n",
       "      <th>0</th>\n",
       "      <td>20/11/2018</td>\n",
       "      <td>37077</td>\n",
       "      <td>505</td>\n",
       "      <td>credit</td>\n",
       "      <td>49.53</td>\n",
       "      <td>12.0</td>\n",
       "      <td>8</td>\n",
       "      <td>NaN</td>\n",
       "    </tr>\n",
       "    <tr>\n",
       "      <th>1</th>\n",
       "      <td>20/11/2018</td>\n",
       "      <td>59173</td>\n",
       "      <td>509</td>\n",
       "      <td>paypal</td>\n",
       "      <td>50.61</td>\n",
       "      <td>25.9</td>\n",
       "      <td>8</td>\n",
       "      <td>NaN</td>\n",
       "    </tr>\n",
       "    <tr>\n",
       "      <th>2</th>\n",
       "      <td>20/11/2018</td>\n",
       "      <td>41066</td>\n",
       "      <td>507</td>\n",
       "      <td>credit</td>\n",
       "      <td>85.99</td>\n",
       "      <td>34.9</td>\n",
       "      <td>11</td>\n",
       "      <td>NaN</td>\n",
       "    </tr>\n",
       "    <tr>\n",
       "      <th>3</th>\n",
       "      <td>20/11/2018</td>\n",
       "      <td>50741</td>\n",
       "      <td>506</td>\n",
       "      <td>credit</td>\n",
       "      <td>34.60</td>\n",
       "      <td>16.5</td>\n",
       "      <td>9</td>\n",
       "      <td>NaN</td>\n",
       "    </tr>\n",
       "    <tr>\n",
       "      <th>4</th>\n",
       "      <td>20/11/2018</td>\n",
       "      <td>53639</td>\n",
       "      <td>515</td>\n",
       "      <td>paypal</td>\n",
       "      <td>266.27</td>\n",
       "      <td>43.1</td>\n",
       "      <td>30</td>\n",
       "      <td>NaN</td>\n",
       "    </tr>\n",
       "    <tr>\n",
       "      <th>...</th>\n",
       "      <td>...</td>\n",
       "      <td>...</td>\n",
       "      <td>...</td>\n",
       "      <td>...</td>\n",
       "      <td>...</td>\n",
       "      <td>...</td>\n",
       "      <td>...</td>\n",
       "      <td>...</td>\n",
       "    </tr>\n",
       "    <tr>\n",
       "      <th>24994</th>\n",
       "      <td>29/11/2018</td>\n",
       "      <td>33699</td>\n",
       "      <td>513</td>\n",
       "      <td>credit</td>\n",
       "      <td>55.89</td>\n",
       "      <td>45.1</td>\n",
       "      <td>7</td>\n",
       "      <td>NaN</td>\n",
       "    </tr>\n",
       "    <tr>\n",
       "      <th>24995</th>\n",
       "      <td>29/11/2018</td>\n",
       "      <td>38652</td>\n",
       "      <td>501</td>\n",
       "      <td>paypal</td>\n",
       "      <td>136.27</td>\n",
       "      <td>61.0</td>\n",
       "      <td>11</td>\n",
       "      <td>NaN</td>\n",
       "    </tr>\n",
       "    <tr>\n",
       "      <th>24996</th>\n",
       "      <td>29/11/2018</td>\n",
       "      <td>30222</td>\n",
       "      <td>504</td>\n",
       "      <td>paypal</td>\n",
       "      <td>427.45</td>\n",
       "      <td>52.8</td>\n",
       "      <td>45</td>\n",
       "      <td>NaN</td>\n",
       "    </tr>\n",
       "    <tr>\n",
       "      <th>24997</th>\n",
       "      <td>29/11/2018</td>\n",
       "      <td>30183</td>\n",
       "      <td>507</td>\n",
       "      <td>credit</td>\n",
       "      <td>981.81</td>\n",
       "      <td>58.2</td>\n",
       "      <td>76</td>\n",
       "      <td>NaN</td>\n",
       "    </tr>\n",
       "    <tr>\n",
       "      <th>24998</th>\n",
       "      <td>29/11/2018</td>\n",
       "      <td>46662</td>\n",
       "      <td>505</td>\n",
       "      <td>credit</td>\n",
       "      <td>6.10</td>\n",
       "      <td>47.2</td>\n",
       "      <td>6</td>\n",
       "      <td>NaN</td>\n",
       "    </tr>\n",
       "  </tbody>\n",
       "</table>\n",
       "<p>24999 rows × 8 columns</p>\n",
       "</div>"
      ],
      "text/plain": [
       "             date  customer_id  product_category payment_method  value [USD]  \\\n",
       "0      20/11/2018        37077               505         credit        49.53   \n",
       "1      20/11/2018        59173               509         paypal        50.61   \n",
       "2      20/11/2018        41066               507         credit        85.99   \n",
       "3      20/11/2018        50741               506         credit        34.60   \n",
       "4      20/11/2018        53639               515         paypal       266.27   \n",
       "...           ...          ...               ...            ...          ...   \n",
       "24994  29/11/2018        33699               513         credit        55.89   \n",
       "24995  29/11/2018        38652               501         paypal       136.27   \n",
       "24996  29/11/2018        30222               504         paypal       427.45   \n",
       "24997  29/11/2018        30183               507         credit       981.81   \n",
       "24998  29/11/2018        46662               505         credit         6.10   \n",
       "\n",
       "       time_on_site [Minutes]  clicks_in_site  Unnamed: 7  \n",
       "0                        12.0               8         NaN  \n",
       "1                        25.9               8         NaN  \n",
       "2                        34.9              11         NaN  \n",
       "3                        16.5               9         NaN  \n",
       "4                        43.1              30         NaN  \n",
       "...                       ...             ...         ...  \n",
       "24994                    45.1               7         NaN  \n",
       "24995                    61.0              11         NaN  \n",
       "24996                    52.8              45         NaN  \n",
       "24997                    58.2              76         NaN  \n",
       "24998                    47.2               6         NaN  \n",
       "\n",
       "[24999 rows x 8 columns]"
      ]
     },
     "execution_count": 3,
     "metadata": {},
     "output_type": "execute_result"
    }
   ],
   "source": [
    "data"
   ]
  },
  {
   "cell_type": "code",
   "execution_count": 4,
   "id": "fc18e005",
   "metadata": {},
   "outputs": [],
   "source": [
    "data[\"product_category\"]=data[\"product_category\"].astype(float)\n",
    "X = data.loc[:,['product_category', 'value [USD]']].values\n",
    "y = data.loc[:,'payment_method'].values"
   ]
  },
  {
   "cell_type": "markdown",
   "id": "239910e1",
   "metadata": {},
   "source": [
    "Siapkan data yang akan digunakan dalam pemodelan. Variabel X diisi dengan 2 kolom data, yaitu kategori produk dan nilai dalam USD dari data yang ada. Variabel y diisi dengan kolom metode pembayaran dari data. Data yang disiapkan akan digunakan sebagai input dan output dalam membuat model machine learning."
   ]
  },
  {
   "cell_type": "code",
   "execution_count": 5,
   "id": "ef483bcf",
   "metadata": {},
   "outputs": [
    {
     "name": "stdout",
     "output_type": "stream",
     "text": [
      "[[505.    49.53]\n",
      " [509.    50.61]\n",
      " [507.    85.99]\n",
      " ...\n",
      " [504.   427.45]\n",
      " [507.   981.81]\n",
      " [505.     6.1 ]]\n"
     ]
    }
   ],
   "source": [
    "print(X)"
   ]
  },
  {
   "cell_type": "markdown",
   "id": "b5061eff",
   "metadata": {},
   "source": [
    "# Encoding Label"
   ]
  },
  {
   "cell_type": "code",
   "execution_count": 6,
   "id": "ef41aa08",
   "metadata": {},
   "outputs": [],
   "source": [
    "from sklearn.preprocessing import LabelEncoder\n",
    "le = LabelEncoder()\n",
    "y = le.fit_transform(y)"
   ]
  },
  {
   "cell_type": "code",
   "execution_count": 7,
   "id": "d1a9d2ad",
   "metadata": {},
   "outputs": [
    {
     "name": "stdout",
     "output_type": "stream",
     "text": [
      "[0 1 0 ... 1 0 0]\n"
     ]
    }
   ],
   "source": [
    "print(y)"
   ]
  },
  {
   "cell_type": "markdown",
   "id": "0bde480c",
   "metadata": {},
   "source": [
    "Gunakan LabelEncoder dari library sklearn.preprocessing untuk mengubah nilai-nilai pada array y dari string ke numerik. Metode fit_transform() digunakan untuk menghitung nilai numerik untuk setiap nilai kategori yang berbeda pada array y dan menggantikan nilai kategori dengan nilai numerik yang sesuai."
   ]
  },
  {
   "cell_type": "markdown",
   "id": "31c0c444",
   "metadata": {},
   "source": [
    "# Membagi Dataset menjadi Training Set dan Test Set"
   ]
  },
  {
   "cell_type": "code",
   "execution_count": 8,
   "id": "f41ff640",
   "metadata": {},
   "outputs": [],
   "source": [
    "from sklearn.model_selection import train_test_split\n",
    "X_train, X_test, y_train, y_test = train_test_split(X, y, test_size = 0.25, random_state = 0)"
   ]
  },
  {
   "cell_type": "code",
   "execution_count": 9,
   "id": "39688984",
   "metadata": {},
   "outputs": [
    {
     "name": "stdout",
     "output_type": "stream",
     "text": [
      "[[510.   467.69]\n",
      " [506.   111.06]\n",
      " [501.   171.01]\n",
      " ...\n",
      " [501.   588.29]\n",
      " [512.   287.56]\n",
      " [505.   637.96]]\n"
     ]
    }
   ],
   "source": [
    "print(X_train)"
   ]
  },
  {
   "cell_type": "code",
   "execution_count": 10,
   "id": "79cb2e3f",
   "metadata": {},
   "outputs": [
    {
     "name": "stdout",
     "output_type": "stream",
     "text": [
      "[0 1 0 ... 0 0 0]\n"
     ]
    }
   ],
   "source": [
    "print(y_train)"
   ]
  },
  {
   "cell_type": "code",
   "execution_count": 11,
   "id": "3971b6f4",
   "metadata": {},
   "outputs": [
    {
     "data": {
      "text/plain": [
       "18749"
      ]
     },
     "execution_count": 11,
     "metadata": {},
     "output_type": "execute_result"
    }
   ],
   "source": [
    "len(X_train)"
   ]
  },
  {
   "cell_type": "code",
   "execution_count": 12,
   "id": "98147f4d",
   "metadata": {},
   "outputs": [
    {
     "data": {
      "text/plain": [
       "6250"
      ]
     },
     "execution_count": 12,
     "metadata": {},
     "output_type": "execute_result"
    }
   ],
   "source": [
    "len(X_test)"
   ]
  },
  {
   "cell_type": "code",
   "execution_count": 13,
   "id": "9ddaa268",
   "metadata": {},
   "outputs": [
    {
     "data": {
      "text/plain": [
       "24999"
      ]
     },
     "execution_count": 13,
     "metadata": {},
     "output_type": "execute_result"
    }
   ],
   "source": [
    "len(y)"
   ]
  },
  {
   "cell_type": "code",
   "execution_count": 14,
   "id": "8faafa96",
   "metadata": {},
   "outputs": [
    {
     "data": {
      "text/plain": [
       "6250"
      ]
     },
     "execution_count": 14,
     "metadata": {},
     "output_type": "execute_result"
    }
   ],
   "source": [
    "len(y_test)"
   ]
  },
  {
   "cell_type": "code",
   "execution_count": 15,
   "id": "79da2378",
   "metadata": {},
   "outputs": [
    {
     "data": {
      "text/plain": [
       "18749"
      ]
     },
     "execution_count": 15,
     "metadata": {},
     "output_type": "execute_result"
    }
   ],
   "source": [
    "len(y_train)"
   ]
  },
  {
   "cell_type": "markdown",
   "id": "21d74e35",
   "metadata": {},
   "source": [
    "# Menggunakan Scaling"
   ]
  },
  {
   "cell_type": "code",
   "execution_count": 16,
   "id": "de086dce",
   "metadata": {},
   "outputs": [],
   "source": [
    "from sklearn.preprocessing import StandardScaler\n",
    "sc = StandardScaler()\n",
    "X_train = sc.fit_transform(X_train)\n",
    "X_test = sc.transform(X_test)"
   ]
  },
  {
   "cell_type": "markdown",
   "id": "013ce0e3",
   "metadata": {},
   "source": [
    "Sklearn.preprocessing.StandardScaler digunakan untuk standarisasi fitur dengan menghapus mean dan scaling ke unit variance. Kode tersebut dijalankan pada X_train dan X_test sehingga kedua set data diubah sedemikian rupa sehingga semua fitur memiliki mean = 0 dan variansi = 1."
   ]
  },
  {
   "cell_type": "code",
   "execution_count": 17,
   "id": "b863c9e6",
   "metadata": {},
   "outputs": [
    {
     "name": "stdout",
     "output_type": "stream",
     "text": [
      "[[ 0.48645556  1.25284982]\n",
      " [-0.44726222 -0.44668205]\n",
      " [-1.61440946 -0.16098837]\n",
      " ...\n",
      " [-1.61440946  1.82757305]\n",
      " [ 0.95331446  0.39443445]\n",
      " [-0.68069167  2.06427705]]\n"
     ]
    }
   ],
   "source": [
    "print(X_train)"
   ]
  },
  {
   "cell_type": "code",
   "execution_count": 18,
   "id": "a2e021cd",
   "metadata": {},
   "outputs": [
    {
     "name": "stdout",
     "output_type": "stream",
     "text": [
      "[[-0.44726222 -0.77131012]\n",
      " [-0.21383278  0.97292244]\n",
      " [ 0.71988501 -0.48575941]\n",
      " ...\n",
      " [-1.38098001 -0.42533246]\n",
      " [-1.61440946 -0.29675839]\n",
      " [ 0.48645556 -0.4122749 ]]\n"
     ]
    }
   ],
   "source": [
    "print(X_test)"
   ]
  },
  {
   "cell_type": "markdown",
   "id": "a0074492",
   "metadata": {},
   "source": [
    "# KNN"
   ]
  },
  {
   "cell_type": "code",
   "execution_count": 19,
   "id": "d71e3f76",
   "metadata": {},
   "outputs": [
    {
     "data": {
      "text/plain": [
       "KNeighborsClassifier()"
      ]
     },
     "execution_count": 19,
     "metadata": {},
     "output_type": "execute_result"
    }
   ],
   "source": [
    "from sklearn.neighbors import KNeighborsClassifier\n",
    "classifier = KNeighborsClassifier(n_neighbors=5, metric='minkowski', p=2)\n",
    "classifier.fit(X_train, y_train)"
   ]
  },
  {
   "cell_type": "markdown",
   "id": "c4473d29",
   "metadata": {},
   "source": [
    "Gunakan library Scikit-learn untuk membuat sebuah K-Nearest Neighbors (KNN) classifier dengan menggunakan 5 tetangga terdekat dan metrik jarak Minkowski dengan nilai p=2. Kemudian, classifier tersebut dilatih (trained) dengan data training X_train dan label y_train."
   ]
  },
  {
   "cell_type": "markdown",
   "id": "a9af5cfd",
   "metadata": {},
   "source": [
    "# Prediksi Tes Set"
   ]
  },
  {
   "cell_type": "code",
   "execution_count": 20,
   "id": "debd7a61",
   "metadata": {},
   "outputs": [
    {
     "name": "stderr",
     "output_type": "stream",
     "text": [
      "C:\\Users\\asd\\anaconda3\\lib\\site-packages\\sklearn\\neighbors\\_classification.py:228: FutureWarning: Unlike other reduction functions (e.g. `skew`, `kurtosis`), the default behavior of `mode` typically preserves the axis it acts along. In SciPy 1.11.0, this behavior will change: the default value of `keepdims` will become False, the `axis` over which the statistic is taken will be eliminated, and the value None will no longer be accepted. Set `keepdims` to True or False to avoid this warning.\n",
      "  mode, _ = stats.mode(_y[neigh_ind, k], axis=1)\n"
     ]
    }
   ],
   "source": [
    "y_pred = classifier.predict(X_test)"
   ]
  },
  {
   "cell_type": "markdown",
   "id": "fad1da35",
   "metadata": {},
   "source": [
    "Lakukan prediksi pada data yang belum diketahui kelasnya dengan menggunakan model yang telah dihasilkan sebelumnya. Hasil prediksi akan disimpan pada variabel y_pred."
   ]
  },
  {
   "cell_type": "markdown",
   "id": "42711ce9",
   "metadata": {},
   "source": [
    "# Membuat Perhitungan Confusion Matriks"
   ]
  },
  {
   "cell_type": "code",
   "execution_count": 21,
   "id": "8cb3bdb8",
   "metadata": {},
   "outputs": [
    {
     "name": "stdout",
     "output_type": "stream",
     "text": [
      "[[2285 1380]\n",
      " [1672  913]]\n"
     ]
    }
   ],
   "source": [
    "from sklearn.metrics import confusion_matrix\n",
    "cm = confusion_matrix(y_test, y_pred)\n",
    "print(cm)"
   ]
  },
  {
   "cell_type": "markdown",
   "id": "8d90c181",
   "metadata": {},
   "source": [
    "Confusion Matriks befungsi untuk menghitung hasil prediksi y_pred dan nilai sebenarnya y_test pada data uji. Confusion matriks akan menunjukkan jumlah data yang benar diprediksi dan salah diprediksi untuk masing-masing kelas pada data uji."
   ]
  },
  {
   "cell_type": "code",
   "execution_count": 22,
   "id": "c6be86a3",
   "metadata": {},
   "outputs": [
    {
     "name": "stderr",
     "output_type": "stream",
     "text": [
      "C:\\Users\\asd\\anaconda3\\lib\\site-packages\\sklearn\\neighbors\\_classification.py:228: FutureWarning: Unlike other reduction functions (e.g. `skew`, `kurtosis`), the default behavior of `mode` typically preserves the axis it acts along. In SciPy 1.11.0, this behavior will change: the default value of `keepdims` will become False, the `axis` over which the statistic is taken will be eliminated, and the value None will no longer be accepted. Set `keepdims` to True or False to avoid this warning.\n",
      "  mode, _ = stats.mode(_y[neigh_ind, k], axis=1)\n",
      "*c* argument looks like a single numeric RGB or RGBA sequence, which should be avoided as value-mapping will have precedence in case its length matches with *x* & *y*.  Please use the *color* keyword-argument or provide a 2D array with a single row if you intend to specify the same RGB or RGBA value for all points.\n",
      "*c* argument looks like a single numeric RGB or RGBA sequence, which should be avoided as value-mapping will have precedence in case its length matches with *x* & *y*.  Please use the *color* keyword-argument or provide a 2D array with a single row if you intend to specify the same RGB or RGBA value for all points.\n"
     ]
    },
    {
     "data": {
      "image/png": "[encoded data removed]",
      "text/plain": [
       "<Figure size 640x480 with 1 Axes>"
      ]
     },
     "metadata": {},
     "output_type": "display_data"
    }
   ],
   "source": [
    "from matplotlib.colors import ListedColormap\n",
    "X_set, y_set = X_train, y_train\n",
    "x1, x2 = np.meshgrid(np.arange(start=X_set[:, 0].min()-1, stop=X_set[:, 0].max()+1, step=0.01), \n",
    "                     np.arange(start=X_set[:, 1].min()-1,stop=X_set[:, 1].max()+1, step=0.01))\n",
    "\n",
    "plt.contourf (x1, x2, classifier.predict(np.array([x1.ravel(), x2.ravel()]).T).reshape(x1.shape),\n",
    "             alpha = 0.75, cmap = ListedColormap(('red','green')))\n",
    "plt.xlim(x1.min(), x1.max())\n",
    "plt.ylim(x2.min(), x2.max())\n",
    "for i, j in enumerate (np.unique(y_set)):\n",
    "    plt.scatter(X_set[y_set == j, 0], X_set[y_set == j, 1],\n",
    "               c = ListedColormap(('red', 'green'))(i), label = j)\n",
    "plt.title('Klasifikasi Data Dengan K-NN (Data Traning)')\n",
    "plt.xlabel('product_category')\n",
    "plt.ylabel('payment_method')\n",
    "plt.legend()\n",
    "plt.show()"
   ]
  },
  {
   "cell_type": "markdown",
   "id": "a9e40854",
   "metadata": {},
   "source": [
    "Visualisasikan data dengan membuat plot decision boundary dari model klasifikasi K-NN. Pertama, dilakukan pengaturan X_set dan y_set dengan nilai X_train dan y_train. Kemudian, dilakukan pembuatan meshgrid untuk menentukan area plot. Selanjutnya, dilakukan plotting pada area tersebut dengan memanfaatkan classifier.predict untuk menghasilkan warna dan membentuk decision boundary. Selanjutnya, data training ditampilkan dengan scatter plot dengan warna merah dan hijau untuk setiap kelasnya. Terakhir, ditampilkan judul, label, dan legenda pada plot tersebut."
   ]
  },
  {
   "cell_type": "code",
   "execution_count": null,
   "id": "f77fe9a1",
   "metadata": {},
   "outputs": [],
   "source": []
  }
 ],
 "metadata": {
  "kernelspec": {
   "display_name": "Python 3 (ipykernel)",
   "language": "python",
   "name": "python3"
  },
  "language_info": {
   "codemirror_mode": {
    "name": "ipython",
    "version": 3
   },
   "file_extension": ".py",
   "mimetype": "text/x-python",
   "name": "python",
   "nbconvert_exporter": "python",
   "pygments_lexer": "ipython3",
   "version": "3.9.13"
  },
  "varInspector": {
   "cols": {
    "lenName": 16,
    "lenType": 16,
    "lenVar": 40
   },
   "kernels_config": {
    "python": {
     "delete_cmd_postfix": "",
     "delete_cmd_prefix": "del ",
     "library": "var_list.py",
     "varRefreshCmd": "print(var_dic_list())"
    },
    "r": {
     "delete_cmd_postfix": ") ",
     "delete_cmd_prefix": "rm(",
     "library": "var_list.r",
     "varRefreshCmd": "cat(var_dic_list()) "
    }
   },
   "types_to_exclude": [
    "module",
    "function",
    "builtin_function_or_method",
    "instance",
    "_Feature"
   ],
   "window_display": false
  }
 },
 "nbformat": 4,
 "nbformat_minor": 5
}

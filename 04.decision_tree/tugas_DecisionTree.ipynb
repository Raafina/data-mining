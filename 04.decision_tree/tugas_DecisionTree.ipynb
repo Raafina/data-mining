{
 "cells": [
  {
   "cell_type": "markdown",
   "id": "433bdccf",
   "metadata": {},
   "source": [
    "Nama : Raafi Nur Adzani   \n",
    "NIM  : A11.2021.13536 "
   ]
  },
  {
   "cell_type": "markdown",
   "id": "f50b5b3d",
   "metadata": {},
   "source": [
    "# Mengimport Library"
   ]
  },
  {
   "cell_type": "code",
   "execution_count": 1,
   "id": "2ebcd9d3",
   "metadata": {},
   "outputs": [],
   "source": [
    "import numpy as np\n",
    "import pandas as pd\n",
    "from sklearn import tree"
   ]
  },
  {
   "cell_type": "markdown",
   "id": "31b36471",
   "metadata": {},
   "source": [
    "1. Library 'numpy' digunakan untuk komputasi numerik\n",
    "2. Library 'matplotlib' digunakan untuk visualisasi data\n",
    "3. Library 'pandas' digunakan untuk memanipulasi dan analisis data"
   ]
  },
  {
   "cell_type": "markdown",
   "id": "8c227022",
   "metadata": {},
   "source": [
    "# Mengimport Dataset "
   ]
  },
  {
   "cell_type": "code",
   "execution_count": 2,
   "id": "459d7415",
   "metadata": {},
   "outputs": [
    {
     "data": {
      "text/html": [
       "<div>\n",
       "<style scoped>\n",
       "    .dataframe tbody tr th:only-of-type {\n",
       "        vertical-align: middle;\n",
       "    }\n",
       "\n",
       "    .dataframe tbody tr th {\n",
       "        vertical-align: top;\n",
       "    }\n",
       "\n",
       "    .dataframe thead th {\n",
       "        text-align: right;\n",
       "    }\n",
       "</style>\n",
       "<table border=\"1\" class=\"dataframe\">\n",
       "  <thead>\n",
       "    <tr style=\"text-align: right;\">\n",
       "      <th></th>\n",
       "      <th>date</th>\n",
       "      <th>customer_id</th>\n",
       "      <th>product_category</th>\n",
       "      <th>payment_method</th>\n",
       "      <th>value [USD]</th>\n",
       "      <th>time_on_site [Minutes]</th>\n",
       "      <th>clicks_in_site</th>\n",
       "      <th>Unnamed: 7</th>\n",
       "    </tr>\n",
       "  </thead>\n",
       "  <tbody>\n",
       "    <tr>\n",
       "      <th>0</th>\n",
       "      <td>20/11/2018</td>\n",
       "      <td>37077</td>\n",
       "      <td>505</td>\n",
       "      <td>credit</td>\n",
       "      <td>49.53</td>\n",
       "      <td>12.0</td>\n",
       "      <td>8</td>\n",
       "      <td>NaN</td>\n",
       "    </tr>\n",
       "    <tr>\n",
       "      <th>1</th>\n",
       "      <td>20/11/2018</td>\n",
       "      <td>59173</td>\n",
       "      <td>509</td>\n",
       "      <td>paypal</td>\n",
       "      <td>50.61</td>\n",
       "      <td>25.9</td>\n",
       "      <td>8</td>\n",
       "      <td>NaN</td>\n",
       "    </tr>\n",
       "    <tr>\n",
       "      <th>2</th>\n",
       "      <td>20/11/2018</td>\n",
       "      <td>41066</td>\n",
       "      <td>507</td>\n",
       "      <td>credit</td>\n",
       "      <td>85.99</td>\n",
       "      <td>34.9</td>\n",
       "      <td>11</td>\n",
       "      <td>NaN</td>\n",
       "    </tr>\n",
       "    <tr>\n",
       "      <th>3</th>\n",
       "      <td>20/11/2018</td>\n",
       "      <td>50741</td>\n",
       "      <td>506</td>\n",
       "      <td>credit</td>\n",
       "      <td>34.60</td>\n",
       "      <td>16.5</td>\n",
       "      <td>9</td>\n",
       "      <td>NaN</td>\n",
       "    </tr>\n",
       "    <tr>\n",
       "      <th>4</th>\n",
       "      <td>20/11/2018</td>\n",
       "      <td>53639</td>\n",
       "      <td>515</td>\n",
       "      <td>paypal</td>\n",
       "      <td>266.27</td>\n",
       "      <td>43.1</td>\n",
       "      <td>30</td>\n",
       "      <td>NaN</td>\n",
       "    </tr>\n",
       "  </tbody>\n",
       "</table>\n",
       "</div>"
      ],
      "text/plain": [
       "         date  customer_id  product_category payment_method  value [USD]  \\\n",
       "0  20/11/2018        37077               505         credit        49.53   \n",
       "1  20/11/2018        59173               509         paypal        50.61   \n",
       "2  20/11/2018        41066               507         credit        85.99   \n",
       "3  20/11/2018        50741               506         credit        34.60   \n",
       "4  20/11/2018        53639               515         paypal       266.27   \n",
       "\n",
       "   time_on_site [Minutes]  clicks_in_site  Unnamed: 7  \n",
       "0                    12.0               8         NaN  \n",
       "1                    25.9               8         NaN  \n",
       "2                    34.9              11         NaN  \n",
       "3                    16.5               9         NaN  \n",
       "4                    43.1              30         NaN  "
      ]
     },
     "execution_count": 2,
     "metadata": {},
     "output_type": "execute_result"
    }
   ],
   "source": [
    "data = pd.read_csv('purchase_data_exe.csv', delimiter=\",\", header=0)\n",
    "data.head()"
   ]
  },
  {
   "cell_type": "markdown",
   "id": "3aec2d66",
   "metadata": {},
   "source": [
    "tampung data csv 'purchase_data_exe.csv' dalam variable 'data' dan tampilkan 5 data teratas"
   ]
  },
  {
   "cell_type": "markdown",
   "id": "9979186d",
   "metadata": {},
   "source": [
    "# Mengubah Data String menjadi Unique-Integer"
   ]
  },
  {
   "cell_type": "code",
   "execution_count": 3,
   "id": "bc479c49",
   "metadata": {},
   "outputs": [],
   "source": [
    "data[\"payment_method\"] = pd.factorize(data.payment_method)[0]"
   ]
  },
  {
   "cell_type": "code",
   "execution_count": 4,
   "id": "3144cbec",
   "metadata": {},
   "outputs": [
    {
     "name": "stdout",
     "output_type": "stream",
     "text": [
      "             date  customer_id  product_category  payment_method  value [USD]  \\\n",
      "0      20/11/2018        37077               505               0        49.53   \n",
      "1      20/11/2018        59173               509               1        50.61   \n",
      "2      20/11/2018        41066               507               0        85.99   \n",
      "3      20/11/2018        50741               506               0        34.60   \n",
      "4      20/11/2018        53639               515               1       266.27   \n",
      "...           ...          ...               ...             ...          ...   \n",
      "24994  29/11/2018        33699               513               0        55.89   \n",
      "24995  29/11/2018        38652               501               1       136.27   \n",
      "24996  29/11/2018        30222               504               1       427.45   \n",
      "24997  29/11/2018        30183               507               0       981.81   \n",
      "24998  29/11/2018        46662               505               0         6.10   \n",
      "\n",
      "       time_on_site [Minutes]  clicks_in_site  Unnamed: 7  \n",
      "0                        12.0               8         NaN  \n",
      "1                        25.9               8         NaN  \n",
      "2                        34.9              11         NaN  \n",
      "3                        16.5               9         NaN  \n",
      "4                        43.1              30         NaN  \n",
      "...                       ...             ...         ...  \n",
      "24994                    45.1               7         NaN  \n",
      "24995                    61.0              11         NaN  \n",
      "24996                    52.8              45         NaN  \n",
      "24997                    58.2              76         NaN  \n",
      "24998                    47.2               6         NaN  \n",
      "\n",
      "[24999 rows x 8 columns]\n"
     ]
    }
   ],
   "source": [
    "print(data)"
   ]
  },
  {
   "cell_type": "markdown",
   "id": "5aead908",
   "metadata": {},
   "source": [
    "# Meghapus Data yang Tidak Diperlukan"
   ]
  },
  {
   "cell_type": "code",
   "execution_count": 5,
   "id": "9b9d66fb",
   "metadata": {
    "scrolled": true
   },
   "outputs": [],
   "source": [
    "data = data.drop(labels=\"date\", axis=1)\n",
    "data = data.drop(labels=\"value [USD]\", axis=1)\n",
    "data = data.drop(labels=\"time_on_site [Minutes]\", axis=1)\n",
    "data = data.drop(labels=\"clicks_in_site\", axis=1)\n",
    "data = data.drop(labels=\"Unnamed: 7\", axis=1)"
   ]
  },
  {
   "cell_type": "code",
   "execution_count": 6,
   "id": "53cdcf21",
   "metadata": {},
   "outputs": [
    {
     "name": "stdout",
     "output_type": "stream",
     "text": [
      "       customer_id  product_category  payment_method\n",
      "0            37077               505               0\n",
      "1            59173               509               1\n",
      "2            41066               507               0\n",
      "3            50741               506               0\n",
      "4            53639               515               1\n",
      "...            ...               ...             ...\n",
      "24994        33699               513               0\n",
      "24995        38652               501               1\n",
      "24996        30222               504               1\n",
      "24997        30183               507               0\n",
      "24998        46662               505               0\n",
      "\n",
      "[24999 rows x 3 columns]\n"
     ]
    }
   ],
   "source": [
    "print(data)"
   ]
  },
  {
   "cell_type": "markdown",
   "id": "f1ba194e",
   "metadata": {},
   "source": [
    "# Mengubah Data kebentuk numpy"
   ]
  },
  {
   "cell_type": "code",
   "execution_count": 7,
   "id": "a31ba4e4",
   "metadata": {},
   "outputs": [],
   "source": [
    "data = data.to_numpy()"
   ]
  },
  {
   "cell_type": "code",
   "execution_count": 8,
   "id": "fb61b1ec",
   "metadata": {},
   "outputs": [
    {
     "name": "stdout",
     "output_type": "stream",
     "text": [
      "[[37077   505     0]\n",
      " [59173   509     1]\n",
      " [41066   507     0]\n",
      " ...\n",
      " [30222   504     1]\n",
      " [30183   507     0]\n",
      " [46662   505     0]]\n"
     ]
    }
   ],
   "source": [
    "print(data)"
   ]
  },
  {
   "cell_type": "markdown",
   "id": "bfeb252a",
   "metadata": {},
   "source": [
    "# Membagi Dataset untuk Train dan Test"
   ]
  },
  {
   "cell_type": "code",
   "execution_count": 10,
   "id": "ddb213c8",
   "metadata": {},
   "outputs": [],
   "source": [
    "dataTraning = np.concatenate((data[0:40, :], data[50:90, :]), axis =0)\n",
    "dataTraning = np.concatenate((data[40:50, :], data[90:100, :]), axis =0)"
   ]
  },
  {
   "cell_type": "markdown",
   "id": "66454655",
   "metadata": {},
   "source": [
    "# Membagi Dataset untuk Input dan Label"
   ]
  },
  {
   "cell_type": "code",
   "execution_count": 13,
   "id": "10922679",
   "metadata": {},
   "outputs": [],
   "source": [
    "inputTraining = dataTraning[:, 0:2]\n",
    "inputTesting = dataTraning[:, 0:2]\n",
    "labelTraining = dataTraning[:, 0]\n",
    "labelTesting = dataTraning [:, 0]"
   ]
  },
  {
   "cell_type": "markdown",
   "id": "0d17a8ca",
   "metadata": {},
   "source": [
    "# Mendefinisikan Decision Tree Classifier"
   ]
  },
  {
   "cell_type": "code",
   "execution_count": 14,
   "id": "b66478a9",
   "metadata": {},
   "outputs": [],
   "source": [
    "model = tree.DecisionTreeClassifier()"
   ]
  },
  {
   "cell_type": "markdown",
   "id": "372d9f86",
   "metadata": {},
   "source": [
    "# Mentraining Model"
   ]
  },
  {
   "cell_type": "code",
   "execution_count": 15,
   "id": "b71c113b",
   "metadata": {},
   "outputs": [],
   "source": [
    "model = model.fit(inputTraining, labelTraining)"
   ]
  },
  {
   "cell_type": "markdown",
   "id": "1943bc32",
   "metadata": {},
   "source": [
    "# Memprediksi Input"
   ]
  },
  {
   "cell_type": "code",
   "execution_count": 16,
   "id": "060dbaf3",
   "metadata": {},
   "outputs": [
    {
     "name": "stdout",
     "output_type": "stream",
     "text": [
      "Label Sebenarnya :  [30549 50606 42084 52161 32218 36491 12227 13196 50444 24528 54446 55746\n",
      " 58534 53957 53395 52267 29085 56399 27009 35336]\n",
      "Hasil Prediksi :  [30549 50606 42084 52161 32218 36491 12227 13196 50444 24528 54446 55746\n",
      " 58534 53957 53395 52267 29085 56399 27009 35336]\n"
     ]
    }
   ],
   "source": [
    "hasilPrediksi = model.predict(inputTesting)\n",
    "print(\"Label Sebenarnya : \", labelTesting)\n",
    "print(\"Hasil Prediksi : \", hasilPrediksi)"
   ]
  },
  {
   "cell_type": "code",
   "execution_count": 17,
   "id": "10aba6d7",
   "metadata": {},
   "outputs": [
    {
     "name": "stdout",
     "output_type": "stream",
     "text": [
      "Prediksi Benar :  20 data\n",
      "Prediksi Salah :  0 data\n",
      "Akurasi :  100.0 %\n"
     ]
    }
   ],
   "source": [
    "prediksiBenar = (hasilPrediksi == labelTesting).sum()\n",
    "prediksiSalah = (hasilPrediksi != labelTesting).sum()\n",
    "print (\"Prediksi Benar : \", prediksiBenar, \"data\")\n",
    "print (\"Prediksi Salah : \", prediksiSalah, \"data\")\n",
    "print(\"Akurasi : \", prediksiBenar/(prediksiBenar+prediksiSalah)*100, \"%\")"
   ]
  },
  {
   "cell_type": "code",
   "execution_count": null,
   "id": "4809e411",
   "metadata": {},
   "outputs": [],
   "source": []
  }
 ],
 "metadata": {
  "kernelspec": {
   "display_name": "Python 3 (ipykernel)",
   "language": "python",
   "name": "python3"
  },
  "language_info": {
   "codemirror_mode": {
    "name": "ipython",
    "version": 3
   },
   "file_extension": ".py",
   "mimetype": "text/x-python",
   "name": "python",
   "nbconvert_exporter": "python",
   "pygments_lexer": "ipython3",
   "version": "3.9.13"
  },
  "varInspector": {
   "cols": {
    "lenName": 16,
    "lenType": 16,
    "lenVar": 40
   },
   "kernels_config": {
    "python": {
     "delete_cmd_postfix": "",
     "delete_cmd_prefix": "del ",
     "library": "var_list.py",
     "varRefreshCmd": "print(var_dic_list())"
    },
    "r": {
     "delete_cmd_postfix": ") ",
     "delete_cmd_prefix": "rm(",
     "library": "var_list.r",
     "varRefreshCmd": "cat(var_dic_list()) "
    }
   },
   "types_to_exclude": [
    "module",
    "function",
    "builtin_function_or_method",
    "instance",
    "_Feature"
   ],
   "window_display": false
  }
 },
 "nbformat": 4,
 "nbformat_minor": 5
}

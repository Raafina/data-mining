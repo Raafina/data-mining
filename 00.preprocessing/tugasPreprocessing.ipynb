{
 "cells": [
  {
   "cell_type": "markdown",
   "id": "93eb35d5",
   "metadata": {},
   "source": [
    "# 1. Memasukkan Library\n",
    "Langkah pertama untuk melakukan preprocessing adalah mengimport beberapa library python, yaitu :\n",
    "1. Numpy, berfungsi untuk melakukan operasi matematika, manipulasi array, dan analisis data pada Python. \n",
    "2. Matplotlib, berfungsi untuk membuat visualisasi data secara grafis.\n",
    "3. Pandas, berfungsi untuk memanipulasi dan menganalisis data dalam format tabel atau dataframe"
   ]
  },
  {
   "cell_type": "code",
   "execution_count": 1,
   "id": "8f8e6df2",
   "metadata": {},
   "outputs": [],
   "source": [
    "import numpy as np\n",
    "import matplotlib.pyplot as plt\n",
    "import pandas as pd"
   ]
  },
  {
   "cell_type": "markdown",
   "id": "461ec50e",
   "metadata": {},
   "source": [
    "# 2. Memasukkan File Data\n",
    "Setelah memasukkan library, langkah selanjutnya adalah memasukkan file dataset yang ingin digunakan dengan menggunakan fungsi pd.read yang dimiliki oleh library Pandas\n"
   ]
  },
  {
   "cell_type": "code",
   "execution_count": 2,
   "id": "0524302d",
   "metadata": {},
   "outputs": [],
   "source": [
    "dataFrame = pd.read_csv('latihan_interval_lari.csv')"
   ]
  },
  {
   "cell_type": "markdown",
   "id": "8a7844fe",
   "metadata": {},
   "source": [
    "## 2.1 Tampilkan File Data yang Telah di masukkan"
   ]
  },
  {
   "cell_type": "code",
   "execution_count": 3,
   "id": "2fc40386",
   "metadata": {},
   "outputs": [
    {
     "data": {
      "text/html": [
       "<div>\n",
       "<style scoped>\n",
       "    .dataframe tbody tr th:only-of-type {\n",
       "        vertical-align: middle;\n",
       "    }\n",
       "\n",
       "    .dataframe tbody tr th {\n",
       "        vertical-align: top;\n",
       "    }\n",
       "\n",
       "    .dataframe thead th {\n",
       "        text-align: right;\n",
       "    }\n",
       "</style>\n",
       "<table border=\"1\" class=\"dataframe\">\n",
       "  <thead>\n",
       "    <tr style=\"text-align: right;\">\n",
       "      <th></th>\n",
       "      <th>Nama</th>\n",
       "      <th>Umur</th>\n",
       "      <th>Waktu(s)</th>\n",
       "      <th>Target</th>\n",
       "    </tr>\n",
       "  </thead>\n",
       "  <tbody>\n",
       "    <tr>\n",
       "      <th>0</th>\n",
       "      <td>Adi</td>\n",
       "      <td>19.0</td>\n",
       "      <td>2322.0</td>\n",
       "      <td>Yes</td>\n",
       "    </tr>\n",
       "    <tr>\n",
       "      <th>1</th>\n",
       "      <td>Ditya</td>\n",
       "      <td>NaN</td>\n",
       "      <td>2622.0</td>\n",
       "      <td>Yes</td>\n",
       "    </tr>\n",
       "    <tr>\n",
       "      <th>2</th>\n",
       "      <td>Adith</td>\n",
       "      <td>18.0</td>\n",
       "      <td>2321.0</td>\n",
       "      <td>No</td>\n",
       "    </tr>\n",
       "    <tr>\n",
       "      <th>3</th>\n",
       "      <td>Agung</td>\n",
       "      <td>18.0</td>\n",
       "      <td>2312.0</td>\n",
       "      <td>Yes</td>\n",
       "    </tr>\n",
       "    <tr>\n",
       "      <th>4</th>\n",
       "      <td>Akhmad</td>\n",
       "      <td>NaN</td>\n",
       "      <td>2452.0</td>\n",
       "      <td>No</td>\n",
       "    </tr>\n",
       "    <tr>\n",
       "      <th>5</th>\n",
       "      <td>Ardian</td>\n",
       "      <td>19.0</td>\n",
       "      <td>NaN</td>\n",
       "      <td>No</td>\n",
       "    </tr>\n",
       "    <tr>\n",
       "      <th>6</th>\n",
       "      <td>Arifianto</td>\n",
       "      <td>19.0</td>\n",
       "      <td>2152.0</td>\n",
       "      <td>Yes</td>\n",
       "    </tr>\n",
       "    <tr>\n",
       "      <th>7</th>\n",
       "      <td>Atinna</td>\n",
       "      <td>NaN</td>\n",
       "      <td>2362.0</td>\n",
       "      <td>No</td>\n",
       "    </tr>\n",
       "    <tr>\n",
       "      <th>8</th>\n",
       "      <td>Bektiningsih</td>\n",
       "      <td>18.0</td>\n",
       "      <td>2531.0</td>\n",
       "      <td>Yes</td>\n",
       "    </tr>\n",
       "    <tr>\n",
       "      <th>9</th>\n",
       "      <td>Bondan</td>\n",
       "      <td>18.0</td>\n",
       "      <td>2351.0</td>\n",
       "      <td>Yes</td>\n",
       "    </tr>\n",
       "    <tr>\n",
       "      <th>10</th>\n",
       "      <td>Edi</td>\n",
       "      <td>19.0</td>\n",
       "      <td>NaN</td>\n",
       "      <td>No</td>\n",
       "    </tr>\n",
       "  </tbody>\n",
       "</table>\n",
       "</div>"
      ],
      "text/plain": [
       "            Nama  Umur  Waktu(s) Target\n",
       "0            Adi  19.0    2322.0    Yes\n",
       "1          Ditya   NaN    2622.0    Yes\n",
       "2          Adith  18.0    2321.0     No\n",
       "3          Agung  18.0    2312.0    Yes\n",
       "4         Akhmad   NaN    2452.0     No\n",
       "5         Ardian  19.0       NaN     No\n",
       "6      Arifianto  19.0    2152.0    Yes\n",
       "7         Atinna   NaN    2362.0     No\n",
       "8   Bektiningsih  18.0    2531.0    Yes\n",
       "9         Bondan  18.0    2351.0    Yes\n",
       "10           Edi  19.0       NaN     No"
      ]
     },
     "execution_count": 3,
     "metadata": {},
     "output_type": "execute_result"
    }
   ],
   "source": [
    "dataFrame"
   ]
  },
  {
   "cell_type": "markdown",
   "id": "e60cf283",
   "metadata": {},
   "source": [
    "## 2.2 Bagi Data dengan Dua Variable"
   ]
  },
  {
   "cell_type": "code",
   "execution_count": 4,
   "id": "72e5db3a",
   "metadata": {},
   "outputs": [],
   "source": [
    "x = dataFrame.iloc[:, :-1].values\n",
    "y = dataFrame.iloc[:, -1].values"
   ]
  },
  {
   "cell_type": "markdown",
   "id": "eaa88cdc",
   "metadata": {},
   "source": [
    "## 2.3 Tampilkan Data yang Telah dibagi dengan Dua Variable"
   ]
  },
  {
   "cell_type": "code",
   "execution_count": 5,
   "id": "b0a62322",
   "metadata": {},
   "outputs": [
    {
     "name": "stdout",
     "output_type": "stream",
     "text": [
      "[['Adi' 19.0 2322.0]\n",
      " ['Ditya' nan 2622.0]\n",
      " ['Adith' 18.0 2321.0]\n",
      " ['Agung' 18.0 2312.0]\n",
      " ['Akhmad' nan 2452.0]\n",
      " ['Ardian' 19.0 nan]\n",
      " ['Arifianto' 19.0 2152.0]\n",
      " ['Atinna' nan 2362.0]\n",
      " ['Bektiningsih' 18.0 2531.0]\n",
      " ['Bondan' 18.0 2351.0]\n",
      " ['Edi' 19.0 nan]]\n"
     ]
    }
   ],
   "source": [
    "print(x)"
   ]
  },
  {
   "cell_type": "code",
   "execution_count": 6,
   "id": "f71ea6a1",
   "metadata": {},
   "outputs": [
    {
     "name": "stdout",
     "output_type": "stream",
     "text": [
      "['Yes' 'Yes' 'No' 'Yes' 'No' 'No' 'Yes' 'No' 'Yes' 'Yes' 'No']\n"
     ]
    }
   ],
   "source": [
    "print(y)"
   ]
  },
  {
   "cell_type": "markdown",
   "id": "b2c0a454",
   "metadata": {},
   "source": [
    "# 3. Memeriksa Missing Value pada Data"
   ]
  },
  {
   "cell_type": "code",
   "execution_count": 7,
   "id": "9de731c8",
   "metadata": {},
   "outputs": [
    {
     "data": {
      "text/plain": [
       "Nama        0\n",
       "Umur        3\n",
       "Waktu(s)    2\n",
       "Target      0\n",
       "dtype: int64"
      ]
     },
     "execution_count": 7,
     "metadata": {},
     "output_type": "execute_result"
    }
   ],
   "source": [
    "dataFrame.isnull().sum()"
   ]
  },
  {
   "cell_type": "code",
   "execution_count": 8,
   "id": "c32d44f3",
   "metadata": {},
   "outputs": [
    {
     "data": {
      "text/html": [
       "<div>\n",
       "<style scoped>\n",
       "    .dataframe tbody tr th:only-of-type {\n",
       "        vertical-align: middle;\n",
       "    }\n",
       "\n",
       "    .dataframe tbody tr th {\n",
       "        vertical-align: top;\n",
       "    }\n",
       "\n",
       "    .dataframe thead th {\n",
       "        text-align: right;\n",
       "    }\n",
       "</style>\n",
       "<table border=\"1\" class=\"dataframe\">\n",
       "  <thead>\n",
       "    <tr style=\"text-align: right;\">\n",
       "      <th></th>\n",
       "      <th>Umur</th>\n",
       "      <th>Waktu(s)</th>\n",
       "    </tr>\n",
       "  </thead>\n",
       "  <tbody>\n",
       "    <tr>\n",
       "      <th>count</th>\n",
       "      <td>8.000000</td>\n",
       "      <td>9.000000</td>\n",
       "    </tr>\n",
       "    <tr>\n",
       "      <th>mean</th>\n",
       "      <td>18.500000</td>\n",
       "      <td>2380.555556</td>\n",
       "    </tr>\n",
       "    <tr>\n",
       "      <th>std</th>\n",
       "      <td>0.534522</td>\n",
       "      <td>137.461005</td>\n",
       "    </tr>\n",
       "    <tr>\n",
       "      <th>min</th>\n",
       "      <td>18.000000</td>\n",
       "      <td>2152.000000</td>\n",
       "    </tr>\n",
       "    <tr>\n",
       "      <th>25%</th>\n",
       "      <td>18.000000</td>\n",
       "      <td>2321.000000</td>\n",
       "    </tr>\n",
       "    <tr>\n",
       "      <th>50%</th>\n",
       "      <td>18.500000</td>\n",
       "      <td>2351.000000</td>\n",
       "    </tr>\n",
       "    <tr>\n",
       "      <th>75%</th>\n",
       "      <td>19.000000</td>\n",
       "      <td>2452.000000</td>\n",
       "    </tr>\n",
       "    <tr>\n",
       "      <th>max</th>\n",
       "      <td>19.000000</td>\n",
       "      <td>2622.000000</td>\n",
       "    </tr>\n",
       "  </tbody>\n",
       "</table>\n",
       "</div>"
      ],
      "text/plain": [
       "            Umur     Waktu(s)\n",
       "count   8.000000     9.000000\n",
       "mean   18.500000  2380.555556\n",
       "std     0.534522   137.461005\n",
       "min    18.000000  2152.000000\n",
       "25%    18.000000  2321.000000\n",
       "50%    18.500000  2351.000000\n",
       "75%    19.000000  2452.000000\n",
       "max    19.000000  2622.000000"
      ]
     },
     "execution_count": 8,
     "metadata": {},
     "output_type": "execute_result"
    }
   ],
   "source": [
    "dataFrame.describe()"
   ]
  },
  {
   "cell_type": "markdown",
   "id": "f55ca248",
   "metadata": {},
   "source": [
    "# 4. Melakukan Data Cleaning"
   ]
  },
  {
   "cell_type": "code",
   "execution_count": 9,
   "id": "e9c47c8e",
   "metadata": {},
   "outputs": [],
   "source": [
    "from sklearn.impute import SimpleImputer\n",
    "imputer = SimpleImputer(missing_values=np.nan, strategy='mean')\n",
    "imputer.fit(x[:, 1:3])\n",
    "x[:, 1:3]= imputer.transform(x[:, 1:3])"
   ]
  },
  {
   "cell_type": "code",
   "execution_count": 10,
   "id": "22a37442",
   "metadata": {},
   "outputs": [
    {
     "name": "stdout",
     "output_type": "stream",
     "text": [
      "[['Adi' 19.0 2322.0]\n",
      " ['Ditya' 18.5 2622.0]\n",
      " ['Adith' 18.0 2321.0]\n",
      " ['Agung' 18.0 2312.0]\n",
      " ['Akhmad' 18.5 2452.0]\n",
      " ['Ardian' 19.0 2380.5555555555557]\n",
      " ['Arifianto' 19.0 2152.0]\n",
      " ['Atinna' 18.5 2362.0]\n",
      " ['Bektiningsih' 18.0 2531.0]\n",
      " ['Bondan' 18.0 2351.0]\n",
      " ['Edi' 19.0 2380.5555555555557]]\n"
     ]
    }
   ],
   "source": [
    "print(x)"
   ]
  },
  {
   "cell_type": "markdown",
   "id": "7214e1d8",
   "metadata": {},
   "source": [
    "# 5. Melakukan Encoding"
   ]
  },
  {
   "cell_type": "code",
   "execution_count": 13,
   "id": "1f4a099d",
   "metadata": {},
   "outputs": [],
   "source": [
    "from sklearn.preprocessing import LabelEncoder\n",
    "le = LabelEncoder()\n",
    "y = le.fit_transform(y)"
   ]
  },
  {
   "cell_type": "code",
   "execution_count": 14,
   "id": "88ca4ea0",
   "metadata": {},
   "outputs": [
    {
     "name": "stdout",
     "output_type": "stream",
     "text": [
      "[1 1 0 1 0 0 1 0 1 1 0]\n"
     ]
    }
   ],
   "source": [
    "print(y)"
   ]
  }
 ],
 "metadata": {
  "kernelspec": {
   "display_name": "Python 3 (ipykernel)",
   "language": "python",
   "name": "python3"
  },
  "language_info": {
   "codemirror_mode": {
    "name": "ipython",
    "version": 3
   },
   "file_extension": ".py",
   "mimetype": "text/x-python",
   "name": "python",
   "nbconvert_exporter": "python",
   "pygments_lexer": "ipython3",
   "version": "3.9.13"
  }
 },
 "nbformat": 4,
 "nbformat_minor": 5
}

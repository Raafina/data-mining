{
 "cells": [
  {
   "cell_type": "markdown",
   "id": "e308fb71",
   "metadata": {},
   "source": [
    "Nama : Raafi Nur Adzani   \n",
    "NIM : A11.2021.13536   \n",
    "Kelas : 4404"
   ]
  },
  {
   "cell_type": "markdown",
   "id": "5c70bec5",
   "metadata": {},
   "source": [
    "# Mengimpor library"
   ]
  },
  {
   "cell_type": "code",
   "execution_count": 1,
   "id": "a6e05595",
   "metadata": {},
   "outputs": [],
   "source": [
    "import numpy as np\n",
    "import pandas as pd\n",
    "from mlxtend.frequent_patterns import apriori, association_rules"
   ]
  },
  {
   "cell_type": "markdown",
   "id": "69934234",
   "metadata": {},
   "source": [
    "# Memasukkan dataset"
   ]
  },
  {
   "cell_type": "code",
   "execution_count": 2,
   "id": "2687d34a",
   "metadata": {},
   "outputs": [
    {
     "data": {
      "text/html": [
       "<div>\n",
       "<style scoped>\n",
       "    .dataframe tbody tr th:only-of-type {\n",
       "        vertical-align: middle;\n",
       "    }\n",
       "\n",
       "    .dataframe tbody tr th {\n",
       "        vertical-align: top;\n",
       "    }\n",
       "\n",
       "    .dataframe thead th {\n",
       "        text-align: right;\n",
       "    }\n",
       "</style>\n",
       "<table border=\"1\" class=\"dataframe\">\n",
       "  <thead>\n",
       "    <tr style=\"text-align: right;\">\n",
       "      <th></th>\n",
       "      <th>InvoiceNo</th>\n",
       "      <th>StockCode</th>\n",
       "      <th>Description</th>\n",
       "      <th>Quantity</th>\n",
       "      <th>InvoiceDate</th>\n",
       "      <th>UnitPrice</th>\n",
       "      <th>CustomerID</th>\n",
       "      <th>Country</th>\n",
       "    </tr>\n",
       "  </thead>\n",
       "  <tbody>\n",
       "    <tr>\n",
       "      <th>0</th>\n",
       "      <td>536365</td>\n",
       "      <td>85123A</td>\n",
       "      <td>WHITE HANGING HEART T-LIGHT HOLDER</td>\n",
       "      <td>6</td>\n",
       "      <td>2010-12-01 08:26:00</td>\n",
       "      <td>2.55</td>\n",
       "      <td>17850.0</td>\n",
       "      <td>United Kingdom</td>\n",
       "    </tr>\n",
       "    <tr>\n",
       "      <th>1</th>\n",
       "      <td>536365</td>\n",
       "      <td>71053</td>\n",
       "      <td>WHITE METAL LANTERN</td>\n",
       "      <td>6</td>\n",
       "      <td>2010-12-01 08:26:00</td>\n",
       "      <td>3.39</td>\n",
       "      <td>17850.0</td>\n",
       "      <td>United Kingdom</td>\n",
       "    </tr>\n",
       "    <tr>\n",
       "      <th>2</th>\n",
       "      <td>536365</td>\n",
       "      <td>84406B</td>\n",
       "      <td>CREAM CUPID HEARTS COAT HANGER</td>\n",
       "      <td>8</td>\n",
       "      <td>2010-12-01 08:26:00</td>\n",
       "      <td>2.75</td>\n",
       "      <td>17850.0</td>\n",
       "      <td>United Kingdom</td>\n",
       "    </tr>\n",
       "    <tr>\n",
       "      <th>3</th>\n",
       "      <td>536365</td>\n",
       "      <td>84029G</td>\n",
       "      <td>KNITTED UNION FLAG HOT WATER BOTTLE</td>\n",
       "      <td>6</td>\n",
       "      <td>2010-12-01 08:26:00</td>\n",
       "      <td>3.39</td>\n",
       "      <td>17850.0</td>\n",
       "      <td>United Kingdom</td>\n",
       "    </tr>\n",
       "    <tr>\n",
       "      <th>4</th>\n",
       "      <td>536365</td>\n",
       "      <td>84029E</td>\n",
       "      <td>RED WOOLLY HOTTIE WHITE HEART.</td>\n",
       "      <td>6</td>\n",
       "      <td>2010-12-01 08:26:00</td>\n",
       "      <td>3.39</td>\n",
       "      <td>17850.0</td>\n",
       "      <td>United Kingdom</td>\n",
       "    </tr>\n",
       "  </tbody>\n",
       "</table>\n",
       "</div>"
      ],
      "text/plain": [
       "  InvoiceNo StockCode                          Description  Quantity  \\\n",
       "0    536365    85123A   WHITE HANGING HEART T-LIGHT HOLDER         6   \n",
       "1    536365     71053                  WHITE METAL LANTERN         6   \n",
       "2    536365    84406B       CREAM CUPID HEARTS COAT HANGER         8   \n",
       "3    536365    84029G  KNITTED UNION FLAG HOT WATER BOTTLE         6   \n",
       "4    536365    84029E       RED WOOLLY HOTTIE WHITE HEART.         6   \n",
       "\n",
       "          InvoiceDate  UnitPrice  CustomerID         Country  \n",
       "0 2010-12-01 08:26:00       2.55     17850.0  United Kingdom  \n",
       "1 2010-12-01 08:26:00       3.39     17850.0  United Kingdom  \n",
       "2 2010-12-01 08:26:00       2.75     17850.0  United Kingdom  \n",
       "3 2010-12-01 08:26:00       3.39     17850.0  United Kingdom  \n",
       "4 2010-12-01 08:26:00       3.39     17850.0  United Kingdom  "
      ]
     },
     "execution_count": 2,
     "metadata": {},
     "output_type": "execute_result"
    }
   ],
   "source": [
    "data = pd.read_excel(\"Online_Retail.xlsx\")\n",
    "data.head()"
   ]
  },
  {
   "cell_type": "markdown",
   "id": "3e045a5c",
   "metadata": {},
   "source": [
    "# Mengeksplor kolom data"
   ]
  },
  {
   "cell_type": "code",
   "execution_count": 3,
   "id": "b010904e",
   "metadata": {},
   "outputs": [
    {
     "data": {
      "text/plain": [
       "Index(['InvoiceNo', 'StockCode', 'Description', 'Quantity', 'InvoiceDate',\n",
       "       'UnitPrice', 'CustomerID', 'Country'],\n",
       "      dtype='object')"
      ]
     },
     "execution_count": 3,
     "metadata": {},
     "output_type": "execute_result"
    }
   ],
   "source": [
    "data.columns"
   ]
  },
  {
   "cell_type": "markdown",
   "id": "b12a7d7d",
   "metadata": {},
   "source": [
    "# Mengeksplor Wilayah Transaksi"
   ]
  },
  {
   "cell_type": "code",
   "execution_count": 4,
   "id": "5211ca56",
   "metadata": {},
   "outputs": [
    {
     "data": {
      "text/plain": [
       "array(['United Kingdom', 'France', 'Australia', 'Netherlands', 'Germany',\n",
       "       'Norway', 'EIRE', 'Switzerland', 'Spain', 'Poland', 'Portugal',\n",
       "       'Italy', 'Belgium', 'Lithuania', 'Japan', 'Iceland',\n",
       "       'Channel Islands', 'Denmark', 'Cyprus', 'Sweden', 'Austria',\n",
       "       'Israel', 'Finland', 'Bahrain', 'Greece', 'Hong Kong', 'Singapore',\n",
       "       'Lebanon', 'United Arab Emirates', 'Saudi Arabia',\n",
       "       'Czech Republic', 'Canada', 'Unspecified', 'Brazil', 'USA',\n",
       "       'European Community', 'Malta', 'RSA'], dtype=object)"
      ]
     },
     "execution_count": 4,
     "metadata": {},
     "output_type": "execute_result"
    }
   ],
   "source": [
    "data.Country.unique()"
   ]
  },
  {
   "cell_type": "markdown",
   "id": "8a261139",
   "metadata": {},
   "source": [
    "# Membersihkan Data"
   ]
  },
  {
   "cell_type": "markdown",
   "id": "7625b13b",
   "metadata": {},
   "source": [
    "#### Menghapus ruang ekstra dalam 'description'"
   ]
  },
  {
   "cell_type": "code",
   "execution_count": 5,
   "id": "3f228fe3",
   "metadata": {},
   "outputs": [],
   "source": [
    "data['Description'] = data['Description'].str.strip()"
   ]
  },
  {
   "cell_type": "markdown",
   "id": "548c58d4",
   "metadata": {},
   "source": [
    "#### Menghapus baris tanpa nomor faktur (InvoiceNo)"
   ]
  },
  {
   "cell_type": "code",
   "execution_count": 6,
   "id": "d762eaf6",
   "metadata": {},
   "outputs": [],
   "source": [
    "data.dropna(axis = 0, subset =['InvoiceNo'], inplace = True)\n",
    "data['InvoiceNo'] = data['InvoiceNo'].astype('str')"
   ]
  },
  {
   "cell_type": "markdown",
   "id": "be649a13",
   "metadata": {},
   "source": [
    "#### Menghapus semua transaksi yang dilakukan secara kredit"
   ]
  },
  {
   "cell_type": "code",
   "execution_count": 7,
   "id": "9e9ccd86",
   "metadata": {},
   "outputs": [],
   "source": [
    "data = data[~data['InvoiceNo'].str.contains('C')]"
   ]
  },
  {
   "cell_type": "markdown",
   "id": "608fa1c1",
   "metadata": {},
   "source": [
    "# Memisahkan data sesuai dengan wilayah transaksi"
   ]
  },
  {
   "cell_type": "markdown",
   "id": "34ddc2ef",
   "metadata": {},
   "source": [
    "#### Prancis"
   ]
  },
  {
   "cell_type": "code",
   "execution_count": 8,
   "id": "c8747c62",
   "metadata": {},
   "outputs": [],
   "source": [
    "basket_France = (data[data['Country']==\"France\"]\n",
    "                 .groupby(['InvoiceNo', 'Description'])['Quantity']\n",
    "                 .sum().unstack().reset_index().fillna(0)\n",
    "                 .set_index('InvoiceNo'))"
   ]
  },
  {
   "cell_type": "markdown",
   "id": "d948ff95",
   "metadata": {},
   "source": [
    "#### United Kingdom"
   ]
  },
  {
   "cell_type": "code",
   "execution_count": 9,
   "id": "eb528b8c",
   "metadata": {},
   "outputs": [],
   "source": [
    "basket_UK = (data[data['Country']==\"United Kingdom\"]\n",
    "                 .groupby(['InvoiceNo', 'Description'])['Quantity']\n",
    "                 .sum().unstack().reset_index().fillna(0)\n",
    "                 .set_index('InvoiceNo'))"
   ]
  },
  {
   "cell_type": "markdown",
   "id": "81ec49c8",
   "metadata": {},
   "source": [
    "#### Portugal"
   ]
  },
  {
   "cell_type": "code",
   "execution_count": 10,
   "id": "b56e911c",
   "metadata": {},
   "outputs": [],
   "source": [
    "basket_Por = (data[data['Country']==\"Portugal\"]\n",
    "                 .groupby(['InvoiceNo', 'Description'])['Quantity']\n",
    "                 .sum().unstack().reset_index().fillna(0)\n",
    "                 .set_index('InvoiceNo'))"
   ]
  },
  {
   "cell_type": "markdown",
   "id": "17f86401",
   "metadata": {},
   "source": [
    "#### Sweden"
   ]
  },
  {
   "cell_type": "code",
   "execution_count": 11,
   "id": "f24949ee",
   "metadata": {},
   "outputs": [],
   "source": [
    "basket_Sweden = (data[data['Country']==\"Sweden\"]\n",
    "                 .groupby(['InvoiceNo', 'Description'])['Quantity']\n",
    "                 .sum().unstack().reset_index().fillna(0)\n",
    "                 .set_index('InvoiceNo'))"
   ]
  },
  {
   "cell_type": "markdown",
   "id": "f1ed16ff",
   "metadata": {},
   "source": [
    "# Melakukan Hot Encoding "
   ]
  },
  {
   "cell_type": "markdown",
   "id": "d0d43ce8",
   "metadata": {},
   "source": [
    "Hot Encoding dilakukan untuk membuat data sesuai dengan library yang digunakan"
   ]
  },
  {
   "cell_type": "code",
   "execution_count": 12,
   "id": "aab50570",
   "metadata": {},
   "outputs": [],
   "source": [
    "def hot_encode(x):\n",
    "    if(x<=0):\n",
    "        return 0\n",
    "    if(x>=1):\n",
    "        return 1"
   ]
  },
  {
   "cell_type": "markdown",
   "id": "bfe304c1",
   "metadata": {},
   "source": [
    "#### Pengkodean untuk masing masing negara"
   ]
  },
  {
   "cell_type": "code",
   "execution_count": 13,
   "id": "51488642",
   "metadata": {},
   "outputs": [],
   "source": [
    "basket_encoded = basket_France.applymap(hot_encode)\n",
    "basket_France = basket_encoded\n",
    "\n",
    "basket_encoded = basket_UK.applymap(hot_encode)\n",
    "basket_UK = basket_encoded\n",
    "\n",
    "basket_encoded = basket_Por.applymap(hot_encode)\n",
    "basket_Por = basket_encoded\n",
    "\n",
    "basket_encoded = basket_Sweden.applymap(hot_encode)\n",
    "basket_Sweden = basket_encoded"
   ]
  },
  {
   "cell_type": "markdown",
   "id": "290da78b",
   "metadata": {},
   "source": [
    "# Membangun model"
   ]
  },
  {
   "cell_type": "markdown",
   "id": "07147003",
   "metadata": {},
   "source": [
    "#### Prancis"
   ]
  },
  {
   "cell_type": "code",
   "execution_count": 14,
   "id": "c0568a0a",
   "metadata": {},
   "outputs": [
    {
     "name": "stderr",
     "output_type": "stream",
     "text": [
      "C:\\Users\\asd\\anaconda3\\lib\\site-packages\\mlxtend\\frequent_patterns\\fpcommon.py:110: DeprecationWarning: DataFrames with non-bool types result in worse computationalperformance and their support might be discontinued in the future.Please use a DataFrame with bool type\n",
      "  warnings.warn(\n"
     ]
    },
    {
     "data": {
      "text/html": [
       "<div>\n",
       "<style scoped>\n",
       "    .dataframe tbody tr th:only-of-type {\n",
       "        vertical-align: middle;\n",
       "    }\n",
       "\n",
       "    .dataframe tbody tr th {\n",
       "        vertical-align: top;\n",
       "    }\n",
       "\n",
       "    .dataframe thead th {\n",
       "        text-align: right;\n",
       "    }\n",
       "</style>\n",
       "<table border=\"1\" class=\"dataframe\">\n",
       "  <thead>\n",
       "    <tr style=\"text-align: right;\">\n",
       "      <th></th>\n",
       "      <th>antecedents</th>\n",
       "      <th>consequents</th>\n",
       "      <th>antecedent support</th>\n",
       "      <th>consequent support</th>\n",
       "      <th>support</th>\n",
       "      <th>confidence</th>\n",
       "      <th>lift</th>\n",
       "      <th>leverage</th>\n",
       "      <th>conviction</th>\n",
       "      <th>zhangs_metric</th>\n",
       "    </tr>\n",
       "  </thead>\n",
       "  <tbody>\n",
       "    <tr>\n",
       "      <th>45</th>\n",
       "      <td>(JUMBO BAG WOODLAND ANIMALS)</td>\n",
       "      <td>(POSTAGE)</td>\n",
       "      <td>0.076531</td>\n",
       "      <td>0.765306</td>\n",
       "      <td>0.076531</td>\n",
       "      <td>1.0</td>\n",
       "      <td>1.306667</td>\n",
       "      <td>0.017961</td>\n",
       "      <td>inf</td>\n",
       "      <td>0.254144</td>\n",
       "    </tr>\n",
       "    <tr>\n",
       "      <th>260</th>\n",
       "      <td>(PLASTERS IN TIN CIRCUS PARADE, RED TOADSTOOL ...</td>\n",
       "      <td>(POSTAGE)</td>\n",
       "      <td>0.051020</td>\n",
       "      <td>0.765306</td>\n",
       "      <td>0.051020</td>\n",
       "      <td>1.0</td>\n",
       "      <td>1.306667</td>\n",
       "      <td>0.011974</td>\n",
       "      <td>inf</td>\n",
       "      <td>0.247312</td>\n",
       "    </tr>\n",
       "    <tr>\n",
       "      <th>271</th>\n",
       "      <td>(PLASTERS IN TIN WOODLAND ANIMALS, RED TOADSTO...</td>\n",
       "      <td>(POSTAGE)</td>\n",
       "      <td>0.053571</td>\n",
       "      <td>0.765306</td>\n",
       "      <td>0.053571</td>\n",
       "      <td>1.0</td>\n",
       "      <td>1.306667</td>\n",
       "      <td>0.012573</td>\n",
       "      <td>inf</td>\n",
       "      <td>0.247978</td>\n",
       "    </tr>\n",
       "  </tbody>\n",
       "</table>\n",
       "</div>"
      ],
      "text/plain": [
       "                                           antecedents consequents  \\\n",
       "45                        (JUMBO BAG WOODLAND ANIMALS)   (POSTAGE)   \n",
       "260  (PLASTERS IN TIN CIRCUS PARADE, RED TOADSTOOL ...   (POSTAGE)   \n",
       "271  (PLASTERS IN TIN WOODLAND ANIMALS, RED TOADSTO...   (POSTAGE)   \n",
       "\n",
       "     antecedent support  consequent support   support  confidence      lift  \\\n",
       "45             0.076531            0.765306  0.076531         1.0  1.306667   \n",
       "260            0.051020            0.765306  0.051020         1.0  1.306667   \n",
       "271            0.053571            0.765306  0.053571         1.0  1.306667   \n",
       "\n",
       "     leverage  conviction  zhangs_metric  \n",
       "45   0.017961         inf       0.254144  \n",
       "260  0.011974         inf       0.247312  \n",
       "271  0.012573         inf       0.247978  "
      ]
     },
     "execution_count": 14,
     "metadata": {},
     "output_type": "execute_result"
    }
   ],
   "source": [
    "frq_items = apriori(basket_France, min_support = 0.05, use_colnames = True)\n",
    "\n",
    "rules = association_rules(frq_items, metric = \"lift\", min_threshold=1)\n",
    "rules = rules.sort_values(['confidence', 'lift'], ascending=[False, False])\n",
    "#print(rules.head())\n",
    "rules.head(3)"
   ]
  },
  {
   "cell_type": "markdown",
   "id": "f6ac8591",
   "metadata": {},
   "source": [
    "#### United Kingdom"
   ]
  },
  {
   "cell_type": "code",
   "execution_count": 15,
   "id": "50ca6c9d",
   "metadata": {},
   "outputs": [
    {
     "name": "stderr",
     "output_type": "stream",
     "text": [
      "C:\\Users\\asd\\anaconda3\\lib\\site-packages\\mlxtend\\frequent_patterns\\fpcommon.py:110: DeprecationWarning: DataFrames with non-bool types result in worse computationalperformance and their support might be discontinued in the future.Please use a DataFrame with bool type\n",
      "  warnings.warn(\n"
     ]
    },
    {
     "data": {
      "text/html": [
       "<div>\n",
       "<style scoped>\n",
       "    .dataframe tbody tr th:only-of-type {\n",
       "        vertical-align: middle;\n",
       "    }\n",
       "\n",
       "    .dataframe tbody tr th {\n",
       "        vertical-align: top;\n",
       "    }\n",
       "\n",
       "    .dataframe thead th {\n",
       "        text-align: right;\n",
       "    }\n",
       "</style>\n",
       "<table border=\"1\" class=\"dataframe\">\n",
       "  <thead>\n",
       "    <tr style=\"text-align: right;\">\n",
       "      <th></th>\n",
       "      <th>antecedents</th>\n",
       "      <th>consequents</th>\n",
       "      <th>antecedent support</th>\n",
       "      <th>consequent support</th>\n",
       "      <th>support</th>\n",
       "      <th>confidence</th>\n",
       "      <th>lift</th>\n",
       "      <th>leverage</th>\n",
       "      <th>conviction</th>\n",
       "      <th>zhangs_metric</th>\n",
       "    </tr>\n",
       "  </thead>\n",
       "  <tbody>\n",
       "    <tr>\n",
       "      <th>2</th>\n",
       "      <td>(PINK REGENCY TEACUP AND SAUCER)</td>\n",
       "      <td>(GREEN REGENCY TEACUP AND SAUCER)</td>\n",
       "      <td>0.037660</td>\n",
       "      <td>0.050035</td>\n",
       "      <td>0.030910</td>\n",
       "      <td>0.820768</td>\n",
       "      <td>16.403939</td>\n",
       "      <td>0.029026</td>\n",
       "      <td>5.300203</td>\n",
       "      <td>0.975787</td>\n",
       "    </tr>\n",
       "    <tr>\n",
       "      <th>5</th>\n",
       "      <td>(GREEN REGENCY TEACUP AND SAUCER)</td>\n",
       "      <td>(ROSES REGENCY TEACUP AND SAUCER)</td>\n",
       "      <td>0.050035</td>\n",
       "      <td>0.051267</td>\n",
       "      <td>0.037553</td>\n",
       "      <td>0.750535</td>\n",
       "      <td>14.639752</td>\n",
       "      <td>0.034988</td>\n",
       "      <td>3.803076</td>\n",
       "      <td>0.980765</td>\n",
       "    </tr>\n",
       "    <tr>\n",
       "      <th>4</th>\n",
       "      <td>(ROSES REGENCY TEACUP AND SAUCER)</td>\n",
       "      <td>(GREEN REGENCY TEACUP AND SAUCER)</td>\n",
       "      <td>0.051267</td>\n",
       "      <td>0.050035</td>\n",
       "      <td>0.037553</td>\n",
       "      <td>0.732497</td>\n",
       "      <td>14.639752</td>\n",
       "      <td>0.034988</td>\n",
       "      <td>3.551237</td>\n",
       "      <td>0.982039</td>\n",
       "    </tr>\n",
       "  </tbody>\n",
       "</table>\n",
       "</div>"
      ],
      "text/plain": [
       "                         antecedents                        consequents  \\\n",
       "2   (PINK REGENCY TEACUP AND SAUCER)  (GREEN REGENCY TEACUP AND SAUCER)   \n",
       "5  (GREEN REGENCY TEACUP AND SAUCER)  (ROSES REGENCY TEACUP AND SAUCER)   \n",
       "4  (ROSES REGENCY TEACUP AND SAUCER)  (GREEN REGENCY TEACUP AND SAUCER)   \n",
       "\n",
       "   antecedent support  consequent support   support  confidence       lift  \\\n",
       "2            0.037660            0.050035  0.030910    0.820768  16.403939   \n",
       "5            0.050035            0.051267  0.037553    0.750535  14.639752   \n",
       "4            0.051267            0.050035  0.037553    0.732497  14.639752   \n",
       "\n",
       "   leverage  conviction  zhangs_metric  \n",
       "2  0.029026    5.300203       0.975787  \n",
       "5  0.034988    3.803076       0.980765  \n",
       "4  0.034988    3.551237       0.982039  "
      ]
     },
     "execution_count": 15,
     "metadata": {},
     "output_type": "execute_result"
    }
   ],
   "source": [
    "frq_items = apriori(basket_UK, min_support = 0.03, use_colnames = True)\n",
    "\n",
    "rules = association_rules(frq_items, metric = \"lift\", min_threshold=1)\n",
    "rules = rules.sort_values(['confidence', 'lift'], ascending=[False, False])\n",
    "#print(rules.head())\n",
    "rules.head(3)"
   ]
  },
  {
   "cell_type": "markdown",
   "id": "3aaeab75",
   "metadata": {},
   "source": [
    "#### Portugal"
   ]
  },
  {
   "cell_type": "code",
   "execution_count": 16,
   "id": "4e14f909",
   "metadata": {},
   "outputs": [
    {
     "name": "stderr",
     "output_type": "stream",
     "text": [
      "C:\\Users\\asd\\anaconda3\\lib\\site-packages\\mlxtend\\frequent_patterns\\fpcommon.py:110: DeprecationWarning: DataFrames with non-bool types result in worse computationalperformance and their support might be discontinued in the future.Please use a DataFrame with bool type\n",
      "  warnings.warn(\n"
     ]
    },
    {
     "data": {
      "text/html": [
       "<div>\n",
       "<style scoped>\n",
       "    .dataframe tbody tr th:only-of-type {\n",
       "        vertical-align: middle;\n",
       "    }\n",
       "\n",
       "    .dataframe tbody tr th {\n",
       "        vertical-align: top;\n",
       "    }\n",
       "\n",
       "    .dataframe thead th {\n",
       "        text-align: right;\n",
       "    }\n",
       "</style>\n",
       "<table border=\"1\" class=\"dataframe\">\n",
       "  <thead>\n",
       "    <tr style=\"text-align: right;\">\n",
       "      <th></th>\n",
       "      <th>antecedents</th>\n",
       "      <th>consequents</th>\n",
       "      <th>antecedent support</th>\n",
       "      <th>consequent support</th>\n",
       "      <th>support</th>\n",
       "      <th>confidence</th>\n",
       "      <th>lift</th>\n",
       "      <th>leverage</th>\n",
       "      <th>conviction</th>\n",
       "      <th>zhangs_metric</th>\n",
       "    </tr>\n",
       "  </thead>\n",
       "  <tbody>\n",
       "    <tr>\n",
       "      <th>1170</th>\n",
       "      <td>(SET 12 COLOUR PENCILS DOLLY GIRL)</td>\n",
       "      <td>(SET 12 COLOUR PENCILS SPACEBOY)</td>\n",
       "      <td>0.051724</td>\n",
       "      <td>0.051724</td>\n",
       "      <td>0.051724</td>\n",
       "      <td>1.0</td>\n",
       "      <td>19.333333</td>\n",
       "      <td>0.049049</td>\n",
       "      <td>inf</td>\n",
       "      <td>1.0</td>\n",
       "    </tr>\n",
       "    <tr>\n",
       "      <th>1171</th>\n",
       "      <td>(SET 12 COLOUR PENCILS SPACEBOY)</td>\n",
       "      <td>(SET 12 COLOUR PENCILS DOLLY GIRL)</td>\n",
       "      <td>0.051724</td>\n",
       "      <td>0.051724</td>\n",
       "      <td>0.051724</td>\n",
       "      <td>1.0</td>\n",
       "      <td>19.333333</td>\n",
       "      <td>0.049049</td>\n",
       "      <td>inf</td>\n",
       "      <td>1.0</td>\n",
       "    </tr>\n",
       "    <tr>\n",
       "      <th>1172</th>\n",
       "      <td>(SET 12 COLOUR PENCILS DOLLY GIRL)</td>\n",
       "      <td>(SET OF 4 KNICK KNACK TINS LONDON)</td>\n",
       "      <td>0.051724</td>\n",
       "      <td>0.051724</td>\n",
       "      <td>0.051724</td>\n",
       "      <td>1.0</td>\n",
       "      <td>19.333333</td>\n",
       "      <td>0.049049</td>\n",
       "      <td>inf</td>\n",
       "      <td>1.0</td>\n",
       "    </tr>\n",
       "  </tbody>\n",
       "</table>\n",
       "</div>"
      ],
      "text/plain": [
       "                             antecedents                         consequents  \\\n",
       "1170  (SET 12 COLOUR PENCILS DOLLY GIRL)    (SET 12 COLOUR PENCILS SPACEBOY)   \n",
       "1171    (SET 12 COLOUR PENCILS SPACEBOY)  (SET 12 COLOUR PENCILS DOLLY GIRL)   \n",
       "1172  (SET 12 COLOUR PENCILS DOLLY GIRL)  (SET OF 4 KNICK KNACK TINS LONDON)   \n",
       "\n",
       "      antecedent support  consequent support   support  confidence       lift  \\\n",
       "1170            0.051724            0.051724  0.051724         1.0  19.333333   \n",
       "1171            0.051724            0.051724  0.051724         1.0  19.333333   \n",
       "1172            0.051724            0.051724  0.051724         1.0  19.333333   \n",
       "\n",
       "      leverage  conviction  zhangs_metric  \n",
       "1170  0.049049         inf            1.0  \n",
       "1171  0.049049         inf            1.0  \n",
       "1172  0.049049         inf            1.0  "
      ]
     },
     "execution_count": 16,
     "metadata": {},
     "output_type": "execute_result"
    }
   ],
   "source": [
    "frq_items = apriori(basket_Por, min_support = 0.05, use_colnames = True)\n",
    "\n",
    "rules = association_rules(frq_items, metric = \"lift\", min_threshold=1)\n",
    "rules = rules.sort_values(['confidence', 'lift'], ascending=[False, False])\n",
    "#print(rules.head())\n",
    "rules.head(3)"
   ]
  },
  {
   "cell_type": "markdown",
   "id": "0ab972e6",
   "metadata": {},
   "source": [
    "#### Sweden"
   ]
  },
  {
   "cell_type": "code",
   "execution_count": 17,
   "id": "1008bc14",
   "metadata": {},
   "outputs": [
    {
     "name": "stderr",
     "output_type": "stream",
     "text": [
      "C:\\Users\\asd\\anaconda3\\lib\\site-packages\\mlxtend\\frequent_patterns\\fpcommon.py:110: DeprecationWarning: DataFrames with non-bool types result in worse computationalperformance and their support might be discontinued in the future.Please use a DataFrame with bool type\n",
      "  warnings.warn(\n"
     ]
    },
    {
     "data": {
      "text/html": [
       "<div>\n",
       "<style scoped>\n",
       "    .dataframe tbody tr th:only-of-type {\n",
       "        vertical-align: middle;\n",
       "    }\n",
       "\n",
       "    .dataframe tbody tr th {\n",
       "        vertical-align: top;\n",
       "    }\n",
       "\n",
       "    .dataframe thead th {\n",
       "        text-align: right;\n",
       "    }\n",
       "</style>\n",
       "<table border=\"1\" class=\"dataframe\">\n",
       "  <thead>\n",
       "    <tr style=\"text-align: right;\">\n",
       "      <th></th>\n",
       "      <th>antecedents</th>\n",
       "      <th>consequents</th>\n",
       "      <th>antecedent support</th>\n",
       "      <th>consequent support</th>\n",
       "      <th>support</th>\n",
       "      <th>confidence</th>\n",
       "      <th>lift</th>\n",
       "      <th>leverage</th>\n",
       "      <th>conviction</th>\n",
       "      <th>zhangs_metric</th>\n",
       "    </tr>\n",
       "  </thead>\n",
       "  <tbody>\n",
       "    <tr>\n",
       "      <th>0</th>\n",
       "      <td>(PACK OF 72 SKULL CAKE CASES)</td>\n",
       "      <td>(12 PENCILS SMALL TUBE SKULL)</td>\n",
       "      <td>0.055556</td>\n",
       "      <td>0.055556</td>\n",
       "      <td>0.055556</td>\n",
       "      <td>1.0</td>\n",
       "      <td>18.0</td>\n",
       "      <td>0.052469</td>\n",
       "      <td>inf</td>\n",
       "      <td>1.0</td>\n",
       "    </tr>\n",
       "    <tr>\n",
       "      <th>1</th>\n",
       "      <td>(12 PENCILS SMALL TUBE SKULL)</td>\n",
       "      <td>(PACK OF 72 SKULL CAKE CASES)</td>\n",
       "      <td>0.055556</td>\n",
       "      <td>0.055556</td>\n",
       "      <td>0.055556</td>\n",
       "      <td>1.0</td>\n",
       "      <td>18.0</td>\n",
       "      <td>0.052469</td>\n",
       "      <td>inf</td>\n",
       "      <td>1.0</td>\n",
       "    </tr>\n",
       "    <tr>\n",
       "      <th>4</th>\n",
       "      <td>(36 DOILIES DOLLY GIRL)</td>\n",
       "      <td>(ASSORTED BOTTLE TOP  MAGNETS)</td>\n",
       "      <td>0.055556</td>\n",
       "      <td>0.055556</td>\n",
       "      <td>0.055556</td>\n",
       "      <td>1.0</td>\n",
       "      <td>18.0</td>\n",
       "      <td>0.052469</td>\n",
       "      <td>inf</td>\n",
       "      <td>1.0</td>\n",
       "    </tr>\n",
       "  </tbody>\n",
       "</table>\n",
       "</div>"
      ],
      "text/plain": [
       "                     antecedents                     consequents  \\\n",
       "0  (PACK OF 72 SKULL CAKE CASES)   (12 PENCILS SMALL TUBE SKULL)   \n",
       "1  (12 PENCILS SMALL TUBE SKULL)   (PACK OF 72 SKULL CAKE CASES)   \n",
       "4        (36 DOILIES DOLLY GIRL)  (ASSORTED BOTTLE TOP  MAGNETS)   \n",
       "\n",
       "   antecedent support  consequent support   support  confidence  lift  \\\n",
       "0            0.055556            0.055556  0.055556         1.0  18.0   \n",
       "1            0.055556            0.055556  0.055556         1.0  18.0   \n",
       "4            0.055556            0.055556  0.055556         1.0  18.0   \n",
       "\n",
       "   leverage  conviction  zhangs_metric  \n",
       "0  0.052469         inf            1.0  \n",
       "1  0.052469         inf            1.0  \n",
       "4  0.052469         inf            1.0  "
      ]
     },
     "execution_count": 17,
     "metadata": {},
     "output_type": "execute_result"
    }
   ],
   "source": [
    "frq_items = apriori(basket_Sweden, min_support = 0.05, use_colnames = True)\n",
    "\n",
    "rules = association_rules(frq_items, metric = \"lift\", min_threshold=1)\n",
    "rules = rules.sort_values(['confidence', 'lift'], ascending=[False, False])\n",
    "#print(rules.head())\n",
    "rules.head(3)"
   ]
  },
  {
   "cell_type": "code",
   "execution_count": null,
   "id": "7fc5129a",
   "metadata": {},
   "outputs": [],
   "source": []
  }
 ],
 "metadata": {
  "kernelspec": {
   "display_name": "Python 3 (ipykernel)",
   "language": "python",
   "name": "python3"
  },
  "language_info": {
   "codemirror_mode": {
    "name": "ipython",
    "version": 3
   },
   "file_extension": ".py",
   "mimetype": "text/x-python",
   "name": "python",
   "nbconvert_exporter": "python",
   "pygments_lexer": "ipython3",
   "version": "3.9.13"
  },
  "varInspector": {
   "cols": {
    "lenName": 16,
    "lenType": 16,
    "lenVar": 40
   },
   "kernels_config": {
    "python": {
     "delete_cmd_postfix": "",
     "delete_cmd_prefix": "del ",
     "library": "var_list.py",
     "varRefreshCmd": "print(var_dic_list())"
    },
    "r": {
     "delete_cmd_postfix": ") ",
     "delete_cmd_prefix": "rm(",
     "library": "var_list.r",
     "varRefreshCmd": "cat(var_dic_list()) "
    }
   },
   "types_to_exclude": [
    "module",
    "function",
    "builtin_function_or_method",
    "instance",
    "_Feature"
   ],
   "window_display": false
  }
 },
 "nbformat": 4,
 "nbformat_minor": 5
}
